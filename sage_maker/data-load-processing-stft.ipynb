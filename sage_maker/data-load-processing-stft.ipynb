{
 "cells": [
  {
   "cell_type": "code",
   "execution_count": 1,
   "id": "3ec53d1b",
   "metadata": {},
   "outputs": [
    {
     "name": "stdout",
     "output_type": "stream",
     "text": [
      "Requirement already satisfied: kaggle in /home/ec2-user/anaconda3/envs/python3/lib/python3.6/site-packages (1.5.12)\n",
      "Requirement already satisfied: six>=1.10 in /home/ec2-user/anaconda3/envs/python3/lib/python3.6/site-packages (from kaggle) (1.15.0)\n",
      "Requirement already satisfied: urllib3 in /home/ec2-user/anaconda3/envs/python3/lib/python3.6/site-packages (from kaggle) (1.26.6)\n",
      "Requirement already satisfied: python-slugify in /home/ec2-user/anaconda3/envs/python3/lib/python3.6/site-packages (from kaggle) (5.0.2)\n",
      "Requirement already satisfied: python-dateutil in /home/ec2-user/anaconda3/envs/python3/lib/python3.6/site-packages (from kaggle) (2.8.1)\n",
      "Requirement already satisfied: certifi in /home/ec2-user/anaconda3/envs/python3/lib/python3.6/site-packages (from kaggle) (2021.5.30)\n",
      "Requirement already satisfied: requests in /home/ec2-user/anaconda3/envs/python3/lib/python3.6/site-packages (from kaggle) (2.26.0)\n",
      "Requirement already satisfied: tqdm in /home/ec2-user/anaconda3/envs/python3/lib/python3.6/site-packages (from kaggle) (4.61.2)\n",
      "Requirement already satisfied: text-unidecode>=1.3 in /home/ec2-user/anaconda3/envs/python3/lib/python3.6/site-packages (from python-slugify->kaggle) (1.3)\n",
      "Requirement already satisfied: charset-normalizer~=2.0.0 in /home/ec2-user/anaconda3/envs/python3/lib/python3.6/site-packages (from requests->kaggle) (2.0.0)\n",
      "Requirement already satisfied: idna<4,>=2.5 in /home/ec2-user/anaconda3/envs/python3/lib/python3.6/site-packages (from requests->kaggle) (3.1)\n"
     ]
    }
   ],
   "source": [
    "! pip install kaggle"
   ]
  },
  {
   "cell_type": "code",
   "execution_count": 2,
   "id": "3d847bf9",
   "metadata": {
    "scrolled": true
   },
   "outputs": [
    {
     "name": "stdout",
     "output_type": "stream",
     "text": [
      "Collecting package metadata (current_repodata.json): done\n",
      "Solving environment: failed with initial frozen solve. Retrying with flexible solve.\n",
      "Collecting package metadata (repodata.json): done\n",
      "Solving environment: done\n",
      "\n",
      "\n",
      "==> WARNING: A newer version of conda exists. <==\n",
      "  current version: 4.8.4\n",
      "  latest version: 4.10.3\n",
      "\n",
      "Please update conda by running\n",
      "\n",
      "    $ conda update -n base -c defaults conda\n",
      "\n",
      "\n",
      "\n",
      "## Package Plan ##\n",
      "\n",
      "  environment location: /home/ec2-user/anaconda3/envs/python3\n",
      "\n",
      "  added / updated specs:\n",
      "    - librosa\n",
      "\n",
      "\n",
      "The following packages will be downloaded:\n",
      "\n",
      "    package                    |            build\n",
      "    ---------------------------|-----------------\n",
      "    astroid-2.5                |   py36h5fab9bb_1         297 KB  conda-forge\n",
      "    flask-cors-3.0.8           |             py_0          14 KB  conda-forge\n",
      "    fsspec-0.8.7               |     pyhd8ed1ab_0          72 KB  conda-forge\n",
      "    lxml-4.6.2                 |   py36h04a5ba7_1         1.5 MB  conda-forge\n",
      "    pillow-8.1.0               |   py36ha6010c0_2         670 KB  conda-forge\n",
      "    pip-21.0.1                 |     pyhd8ed1ab_0         1.1 MB  conda-forge\n",
      "    pylint-2.6.0               |   py36h5fab9bb_1         452 KB  conda-forge\n",
      "    requests-2.13.0            |           py36_0         780 KB  conda-forge\n",
      "    urllib3-1.26.3             |     pyhd8ed1ab_0          99 KB  conda-forge\n",
      "    ------------------------------------------------------------\n",
      "                                           Total:         4.9 MB\n",
      "\n",
      "The following packages will be SUPERSEDED by a higher-priority channel:\n",
      "\n",
      "  pylint             conda-forge/noarch::pylint-2.9.3-pyhd~ --> conda-forge/linux-64::pylint-2.6.0-py36h5fab9bb_1\n",
      "  requests           conda-forge/noarch::requests-2.26.0-p~ --> conda-forge/linux-64::requests-2.13.0-py36_0\n",
      "\n",
      "The following packages will be DOWNGRADED:\n",
      "\n",
      "  astroid                              2.6.2-py36h5fab9bb_0 --> 2.5-py36h5fab9bb_1\n",
      "  dataclasses                              0.8-pyh787bdff_0 --> 0.7-pyhe4b4509_6\n",
      "  docutils                            0.17.1-py36h5fab9bb_0 --> 0.16-py36h5fab9bb_3\n",
      "  flask-cors                            3.0.10-pyhd8ed1ab_0 --> 3.0.8-py_0\n",
      "  fsspec                              2021.7.0-pyhd8ed1ab_0 --> 0.8.7-pyhd8ed1ab_0\n",
      "  lxml                                 4.6.3-py36h04a5ba7_0 --> 4.6.2-py36h04a5ba7_1\n",
      "  pillow                               8.2.0-py36ha6010c0_1 --> 8.1.0-py36ha6010c0_2\n",
      "  pip                                   21.1.3-pyhd8ed1ab_0 --> 21.0.1-pyhd8ed1ab_0\n",
      "  urllib3                               1.26.6-pyhd8ed1ab_0 --> 1.26.3-pyhd8ed1ab_0\n",
      "\n",
      "\n",
      "\n",
      "Downloading and Extracting Packages\n",
      "astroid-2.5          | 297 KB    | ##################################### | 100% \n",
      "urllib3-1.26.3       | 99 KB     | ##################################### | 100% \n",
      "requests-2.13.0      | 780 KB    | ##################################### | 100% \n",
      "fsspec-0.8.7         | 72 KB     | ##################################### | 100% \n",
      "pillow-8.1.0         | 670 KB    | ##################################### | 100% \n",
      "pip-21.0.1           | 1.1 MB    | ##################################### | 100% \n",
      "pylint-2.6.0         | 452 KB    | ##################################### | 100% \n",
      "flask-cors-3.0.8     | 14 KB     | ##################################### | 100% \n",
      "lxml-4.6.2           | 1.5 MB    | ##################################### | 100% \n",
      "Preparing transaction: done\n",
      "Verifying transaction: done\n",
      "Executing transaction: done\n"
     ]
    }
   ],
   "source": [
    "! conda install -c conda-forge librosa --yes"
   ]
  },
  {
   "cell_type": "code",
   "execution_count": 102,
   "id": "eeea5a86",
   "metadata": {},
   "outputs": [],
   "source": [
    "import sagemaker\n",
    "import boto3\n",
    "from sagemaker import get_execution_role\n",
    "\n",
    "\n",
    "import pandas as pd\n",
    "import librosa\n",
    "import matplotlib.pyplot as plt\n",
    "import numpy as np\n",
    "from PIL import Image\n",
    "from sklearn.utils import shuffle\n",
    "from collections import Counter\n",
    "from tqdm import tqdm\n",
    "import os\n",
    "from scipy import signal"
   ]
  },
  {
   "cell_type": "code",
   "execution_count": 103,
   "id": "1d4cc9bb",
   "metadata": {},
   "outputs": [],
   "source": [
    "sagemaker_session = sagemaker.Session()\n",
    "sagemaker_session.boto_region_name\n",
    "role = get_execution_role()"
   ]
  },
  {
   "cell_type": "code",
   "execution_count": 104,
   "id": "637d95b4",
   "metadata": {},
   "outputs": [],
   "source": [
    "bucket = 'birdsound-identification-dataset'\n",
    "s3 = boto3.resource('s3')"
   ]
  },
  {
   "cell_type": "code",
   "execution_count": 105,
   "id": "83ef32c8",
   "metadata": {},
   "outputs": [
    {
     "name": "stdout",
     "output_type": "stream",
     "text": [
      "mkdir: cannot create directory ‘/home/ec2-user/.kaggle’: File exists\r\n"
     ]
    }
   ],
   "source": [
    "! mkdir ~/.kaggle\n",
    "! cp kaggle.json ~/.kaggle/\n",
    "! chmod 600 ~/.kaggle/kaggle.json"
   ]
  },
  {
   "cell_type": "code",
   "execution_count": 106,
   "id": "757169f7",
   "metadata": {},
   "outputs": [
    {
     "name": "stdout",
     "output_type": "stream",
     "text": [
      "Downloading train_metadata.csv.zip to /home/ec2-user/SageMaker\n",
      "  0%|                                               | 0.00/1.94M [00:00<?, ?B/s]\n",
      "100%|██████████████████████████████████████| 1.94M/1.94M [00:00<00:00, 78.3MB/s]\n",
      "Archive:  train_metadata.csv.zip\n",
      "replace train_metadata.csv? [y]es, [n]o, [A]ll, [N]one, [r]ename: ^C\n"
     ]
    }
   ],
   "source": [
    "!kaggle competitions download -c birdclef-2021 -f train_metadata.csv\n",
    "!unzip train_metadata.csv.zip\n",
    "!rm train_metadata.csv.zip"
   ]
  },
  {
   "cell_type": "code",
   "execution_count": 107,
   "id": "9e44b3fc",
   "metadata": {},
   "outputs": [],
   "source": [
    "meta_data_path = 'train_metadata.csv'\n",
    "meta_data = pd.read_csv(meta_data_path)\n",
    "meta_data = meta_data[meta_data['rating'] >= 4 ]\n",
    "counter_classes = pd.DataFrame(sorted(Counter(meta_data['primary_label']).items(), key=lambda x: x[1], reverse=True))\n",
    "meta_data = meta_data.merge(counter_classes, how='left', left_on='primary_label', right_on=0)\n",
    "\n",
    "del meta_data[0]\n",
    "meta_data = meta_data.rename(columns={1:'count_class'})\n",
    "\n",
    "meta_data = meta_data[meta_data['count_class']>= 200]\n",
    "meta_data = shuffle(meta_data)\n",
    "audio_name = meta_data.loc[meta_data['count_class'] >= 200, 'filename'].values\n",
    "audio_labels = meta_data.loc[meta_data['count_class'] >= 200, 'primary_label'].values\n",
    "\n",
    "cls_id_map = {name:idx for idx, name in enumerate(np.unique(audio_labels))}"
   ]
  },
  {
   "cell_type": "code",
   "execution_count": 153,
   "id": "a27d8f59",
   "metadata": {},
   "outputs": [],
   "source": [
    "SR = 22050\n",
    "SIGNAL_LENGTH = 5 \n",
    "SPEC_SHAPE = (13, 96) \n",
    "FMIN = 500\n",
    "FMAX = SR//2\n",
    "HOP_LENGHT = int(SIGNAL_LENGTH * SR / (SPEC_SHAPE[1] - 1))\n",
    "DURATION  = 10\n",
    "\n",
    "def open_audio(path):\n",
    "    waves, rate = librosa.load(path, sr=SR, duration=DURATION)\n",
    "    processed_audios = []\n",
    "    for i in range(0, len(waves), int(SIGNAL_LENGTH * SR)):\n",
    "        w = waves[i:i + int(SIGNAL_LENGTH * SR)]\n",
    "        if len(w) < int(SIGNAL_LENGTH * SR):\n",
    "            break\n",
    "        if np.any(np.isnan(w)) == False:\n",
    "            stft = signal.stft(w, nperseg=SR*5//256)[-1]\n",
    "            stft = np.abs(stft)\n",
    "            stft = np.log(stft)\n",
    "            stft = stft - np.min(stft)\n",
    "            stft = stft/np.max(stft)\n",
    "            processed_audios.append(stft)\n",
    "    return processed_audios"
   ]
  },
  {
   "cell_type": "code",
   "execution_count": 159,
   "id": "06cf3cc7",
   "metadata": {
    "scrolled": true
   },
   "outputs": [
    {
     "name": "stdout",
     "output_type": "stream",
     "text": [
      "mkdir: cannot create directory ‘audio_files’: File exists\r\n"
     ]
    },
    {
     "name": "stderr",
     "output_type": "stream",
     "text": [
      "0it [00:00, ?it/s]"
     ]
    },
    {
     "name": "stdout",
     "output_type": "stream",
     "text": [
      "XC323977.ogg.zip: Skipping, found more recently modified local copy (use --force to force download)\r\n"
     ]
    },
    {
     "name": "stderr",
     "output_type": "stream",
     "text": [
      "/home/ec2-user/anaconda3/envs/python3/lib/python3.6/site-packages/librosa/core/audio.py:165: UserWarning: PySoundFile failed. Trying audioread instead.\n",
      "  warnings.warn(\"PySoundFile failed. Trying audioread instead.\")\n",
      "1it [00:01,  1.06s/it]"
     ]
    },
    {
     "name": "stdout",
     "output_type": "stream",
     "text": [
      "Downloading XC240235.ogg to audio_files\n",
      "  0%|                                                | 0.00/288k [00:00<?, ?B/s]\n",
      "100%|████████████████████████████████████████| 288k/288k [00:00<00:00, 46.9MB/s]\n",
      "(216, 514)\n",
      "(216, 514)\n"
     ]
    },
    {
     "name": "stderr",
     "output_type": "stream",
     "text": [
      "2it [00:03,  1.59s/it]"
     ]
    },
    {
     "name": "stdout",
     "output_type": "stream",
     "text": [
      "XC232857.ogg.zip: Skipping, found more recently modified local copy (use --force to force download)\r\n"
     ]
    },
    {
     "name": "stderr",
     "output_type": "stream",
     "text": [
      "/home/ec2-user/anaconda3/envs/python3/lib/python3.6/site-packages/librosa/core/audio.py:165: UserWarning: PySoundFile failed. Trying audioread instead.\n",
      "  warnings.warn(\"PySoundFile failed. Trying audioread instead.\")\n",
      "3it [00:03,  1.30s/it]"
     ]
    },
    {
     "name": "stdout",
     "output_type": "stream",
     "text": [
      "Downloading XC598267.ogg to audio_files\n",
      "  0%|                                               | 0.00/69.8k [00:00<?, ?B/s]\n",
      "100%|██████████████████████████████████████| 69.8k/69.8k [00:00<00:00, 29.6MB/s]\n",
      "(216, 514)\n"
     ]
    },
    {
     "name": "stderr",
     "output_type": "stream",
     "text": [
      "4it [00:05,  1.37s/it]"
     ]
    },
    {
     "name": "stdout",
     "output_type": "stream",
     "text": [
      "Downloading XC491645.ogg to audio_files\n",
      "  0%|                                                | 0.00/313k [00:00<?, ?B/s]\n",
      "100%|████████████████████████████████████████| 313k/313k [00:00<00:00, 44.1MB/s]\n",
      "(216, 514)\n",
      "(216, 514)\n"
     ]
    },
    {
     "name": "stderr",
     "output_type": "stream",
     "text": [
      "5it [00:07,  1.53s/it]"
     ]
    },
    {
     "name": "stdout",
     "output_type": "stream",
     "text": [
      "XC74945.ogg.zip: Skipping, found more recently modified local copy (use --force to force download)\r\n"
     ]
    },
    {
     "name": "stderr",
     "output_type": "stream",
     "text": [
      "/home/ec2-user/anaconda3/envs/python3/lib/python3.6/site-packages/librosa/core/audio.py:165: UserWarning: PySoundFile failed. Trying audioread instead.\n",
      "  warnings.warn(\"PySoundFile failed. Trying audioread instead.\")\n",
      "6it [00:08,  1.33s/it]"
     ]
    },
    {
     "name": "stdout",
     "output_type": "stream",
     "text": [
      "Downloading XC612250.ogg to audio_files\n",
      "  0%|                                                | 0.00/239k [00:00<?, ?B/s]\n",
      "100%|████████████████████████████████████████| 239k/239k [00:00<00:00, 45.8MB/s]\n",
      "(216, 514)\n",
      "(216, 514)\n"
     ]
    },
    {
     "name": "stderr",
     "output_type": "stream",
     "text": [
      "7it [00:10,  1.52s/it]"
     ]
    },
    {
     "name": "stdout",
     "output_type": "stream",
     "text": [
      "Downloading XC498913.ogg to audio_files\n",
      "  0%|                                               | 0.00/1.00M [00:00<?, ?B/s]\n",
      "100%|██████████████████████████████████████| 1.00M/1.00M [00:00<00:00, 63.9MB/s]\n",
      "(216, 514)\n",
      "(216, 514)\n"
     ]
    },
    {
     "name": "stderr",
     "output_type": "stream",
     "text": [
      "8it [00:12,  1.64s/it]"
     ]
    },
    {
     "name": "stdout",
     "output_type": "stream",
     "text": [
      "Downloading XC582070.ogg to audio_files\n",
      "  0%|                                                | 0.00/355k [00:00<?, ?B/s]\n",
      "100%|████████████████████████████████████████| 355k/355k [00:00<00:00, 49.0MB/s]\n",
      "(216, 514)\n",
      "(216, 514)\n"
     ]
    },
    {
     "name": "stderr",
     "output_type": "stream",
     "text": [
      "9it [00:13,  1.69s/it]"
     ]
    },
    {
     "name": "stdout",
     "output_type": "stream",
     "text": [
      "Downloading XC348948.ogg to audio_files\n",
      "  0%|                                                | 0.00/104k [00:00<?, ?B/s]\n",
      "100%|████████████████████████████████████████| 104k/104k [00:00<00:00, 35.2MB/s]\n",
      "(216, 514)\n"
     ]
    },
    {
     "name": "stderr",
     "output_type": "stream",
     "text": [
      "10it [00:15,  1.54s/it]\n"
     ]
    }
   ],
   "source": [
    "!mkdir audio_files\n",
    "\n",
    "dir_path = 'audio_files/'\n",
    "data_path = 'data/'\n",
    "\n",
    "for audio_file, target in tqdm(zip(audio_name[:10], audio_labels[:10])):\n",
    "    !kaggle competitions download -c birdclef-2021 -p audio_files/ -f {'train_short_audio/' + target + '/' + audio_file} \n",
    "\n",
    "    audio_path = dir_path + str(audio_file)\n",
    "    \n",
    "    \n",
    "    try:\n",
    "        temp = open_audio(audio_path)\n",
    "        if not os.path.exists(data_path + target):\n",
    "            os.makedirs(data_path + target)\n",
    "\n",
    "        for idx, x in enumerate(temp):\n",
    "            print(x.shape)\n",
    "            img = Image.fromarray(x * 255.0).convert(\"L\")\n",
    "            img_save_path = data_path + target + '/' + audio_file[:-4] + f'_{idx}' '.png'\n",
    "            img.save(img_save_path)\n",
    "            s3.Bucket(bucket).upload_file(img_save_path, img_save_path)\n",
    "            !rm {img_save_path}\n",
    "        !rm {dir_path + audio_file}\n",
    "\n",
    "    except:\n",
    "        continue"
   ]
  },
  {
   "cell_type": "code",
   "execution_count": 157,
   "id": "2ea5b30f",
   "metadata": {},
   "outputs": [
    {
     "data": {
      "text/plain": [
       "[array([[0.25945017, 0.40224954, 0.4476753 , ..., 0.57829994, 0.6254348 ,\n",
       "         0.7122988 ],\n",
       "        [0.27175063, 0.38472182, 0.4950133 , ..., 0.6174457 , 0.5876202 ,\n",
       "         0.71205163],\n",
       "        [0.28659174, 0.42749974, 0.4858006 , ..., 0.62800777, 0.571841  ,\n",
       "         0.71327233],\n",
       "        ...,\n",
       "        [0.06736848, 0.1915573 , 0.36595547, ..., 0.37171593, 0.5975893 ,\n",
       "         0.70108885],\n",
       "        [0.0753105 , 0.18281052, 0.34462327, ..., 0.3408085 , 0.59473515,\n",
       "         0.7010831 ],\n",
       "        [0.08076826, 0.11897497, 0.32239306, ..., 0.2961362 , 0.5955281 ,\n",
       "         0.7010669 ]], dtype=float32)]"
      ]
     },
     "execution_count": 157,
     "metadata": {},
     "output_type": "execute_result"
    }
   ],
   "source": [
    "open_audio(audio_path)"
   ]
  },
  {
   "cell_type": "code",
   "execution_count": 73,
   "id": "f3857dd7",
   "metadata": {},
   "outputs": [
    {
     "name": "stdout",
     "output_type": "stream",
     "text": [
      "mkdir: cannot create directory ‘audio_files’: File exists\r\n"
     ]
    },
    {
     "name": "stderr",
     "output_type": "stream",
     "text": [
      "0it [00:00, ?it/s]"
     ]
    },
    {
     "name": "stdout",
     "output_type": "stream",
     "text": [
      "Downloading XC197551.ogg to audio_files\r\n",
      "  0%|                                                | 0.00/274k [00:00<?, ?B/s]\r\n",
      "100%|████████████████████████████████████████| 274k/274k [00:00<00:00, 20.6MB/s]\r\n"
     ]
    },
    {
     "name": "stderr",
     "output_type": "stream",
     "text": [
      "1it [00:01,  1.72s/it]"
     ]
    },
    {
     "name": "stdout",
     "output_type": "stream",
     "text": [
      "Downloading XC411392.ogg to audio_files\r\n",
      "  0%|                                                | 0.00/321k [00:00<?, ?B/s]\r\n",
      "100%|████████████████████████████████████████| 321k/321k [00:00<00:00, 39.4MB/s]\r\n"
     ]
    },
    {
     "name": "stderr",
     "output_type": "stream",
     "text": [
      "2it [00:03,  1.60s/it]"
     ]
    },
    {
     "name": "stdout",
     "output_type": "stream",
     "text": [
      "Downloading XC243303.ogg to audio_files\r\n",
      "  0%|                                                | 0.00/334k [00:00<?, ?B/s]\r\n",
      "100%|████████████████████████████████████████| 334k/334k [00:00<00:00, 65.0MB/s]\r\n"
     ]
    },
    {
     "name": "stderr",
     "output_type": "stream",
     "text": [
      "3it [00:04,  1.65s/it]"
     ]
    },
    {
     "name": "stdout",
     "output_type": "stream",
     "text": [
      "Downloading XC142731.ogg to audio_files\r\n",
      "  0%|                                                | 0.00/675k [00:00<?, ?B/s]\r\n",
      "100%|████████████████████████████████████████| 675k/675k [00:00<00:00, 58.1MB/s]\r\n"
     ]
    },
    {
     "name": "stderr",
     "output_type": "stream",
     "text": [
      "4it [00:06,  1.60s/it]"
     ]
    },
    {
     "name": "stdout",
     "output_type": "stream",
     "text": [
      "Downloading XC262434.ogg to audio_files\r\n",
      "  0%|                                                | 0.00/220k [00:00<?, ?B/s]\r\n",
      "100%|████████████████████████████████████████| 220k/220k [00:00<00:00, 29.8MB/s]\r\n"
     ]
    },
    {
     "name": "stderr",
     "output_type": "stream",
     "text": [
      "5it [00:08,  1.63s/it]"
     ]
    },
    {
     "name": "stdout",
     "output_type": "stream",
     "text": [
      "Downloading XC364665.ogg to audio_files\n",
      "  0%|                                                | 0.00/739k [00:00<?, ?B/s]\n",
      "100%|████████████████████████████████████████| 739k/739k [00:00<00:00, 65.8MB/s]\n"
     ]
    },
    {
     "name": "stderr",
     "output_type": "stream",
     "text": [
      "6it [00:09,  1.65s/it]"
     ]
    },
    {
     "name": "stdout",
     "output_type": "stream",
     "text": [
      "XC325700.ogg.zip: Skipping, found more recently modified local copy (use --force to force download)\r\n"
     ]
    },
    {
     "name": "stderr",
     "output_type": "stream",
     "text": [
      "/home/ec2-user/anaconda3/envs/python3/lib/python3.6/site-packages/librosa/core/audio.py:165: UserWarning: PySoundFile failed. Trying audioread instead.\n",
      "  warnings.warn(\"PySoundFile failed. Trying audioread instead.\")\n",
      "7it [00:10,  1.46s/it]"
     ]
    },
    {
     "name": "stdout",
     "output_type": "stream",
     "text": [
      "Downloading XC532976.ogg to audio_files\r\n",
      "  0%|                                                | 0.00/943k [00:00<?, ?B/s]\r\n",
      "100%|████████████████████████████████████████| 943k/943k [00:00<00:00, 65.6MB/s]\r\n"
     ]
    },
    {
     "name": "stderr",
     "output_type": "stream",
     "text": [
      "8it [00:12,  1.57s/it]"
     ]
    },
    {
     "name": "stdout",
     "output_type": "stream",
     "text": [
      "Downloading XC391254.ogg to audio_files\r\n",
      "  0%|                                                | 0.00/110k [00:00<?, ?B/s]\r\n",
      "100%|████████████████████████████████████████| 110k/110k [00:00<00:00, 25.4MB/s]\r\n"
     ]
    },
    {
     "name": "stderr",
     "output_type": "stream",
     "text": [
      "9it [00:14,  1.53s/it]"
     ]
    },
    {
     "name": "stdout",
     "output_type": "stream",
     "text": [
      "Downloading XC578529.ogg to audio_files\r\n",
      "  0%|                                                | 0.00/162k [00:00<?, ?B/s]\r\n",
      "100%|████████████████████████████████████████| 162k/162k [00:00<00:00, 44.6MB/s]\r\n"
     ]
    },
    {
     "name": "stderr",
     "output_type": "stream",
     "text": [
      "10it [00:15,  1.57s/it]\n"
     ]
    }
   ],
   "source": [
    "!mkdir audio_files\n",
    "\n",
    "dir_path = 'audio_files/'\n",
    "data_path = 'data/'\n",
    "\n",
    "targets = []\n",
    "data = np.zeros(SR*SIGNAL_LENGTH)\n",
    "for audio_file, target in tqdm(zip(audio_name[:10], audio_labels[:10])):\n",
    "    \n",
    "    !kaggle competitions download -c birdclef-2021 -p audio_files/ -f {'train_short_audio/' + target + '/' + audio_file} \n",
    "    audio_path = dir_path + str(audio_file)\n",
    "    \n",
    "    try:\n",
    "        temp = open_audio(audio_path)\n",
    "        for idx, x in enumerate(temp):\n",
    "            \n",
    "            targets = targets + len(temp)*[target]\n",
    "            data = np.vstack((data, temp))\n",
    "        \n",
    "        !rm {dir_path + audio_file}\n",
    "\n",
    "    except:\n",
    "        continue"
   ]
  },
  {
   "cell_type": "code",
   "execution_count": 75,
   "id": "77f1871a",
   "metadata": {},
   "outputs": [],
   "source": [
    "data = pd.DataFrame(data[1:])\n",
    "data['label'] = targets"
   ]
  },
  {
   "cell_type": "code",
   "execution_count": 76,
   "id": "5e17d540",
   "metadata": {},
   "outputs": [],
   "source": [
    "data.to_csv('data.csv', index=False)\n",
    "\n",
    "s3.Bucket(bucket).upload_file('data.csv', 'data.csv')"
   ]
  }
 ],
 "metadata": {
  "kernelspec": {
   "display_name": "conda_python3",
   "language": "python",
   "name": "conda_python3"
  },
  "language_info": {
   "codemirror_mode": {
    "name": "ipython",
    "version": 3
   },
   "file_extension": ".py",
   "mimetype": "text/x-python",
   "name": "python",
   "nbconvert_exporter": "python",
   "pygments_lexer": "ipython3",
   "version": "3.6.13"
  }
 },
 "nbformat": 4,
 "nbformat_minor": 5
}
