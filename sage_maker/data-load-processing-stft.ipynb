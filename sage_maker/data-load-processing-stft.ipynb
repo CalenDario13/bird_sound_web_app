{
 "cells": [
  {
   "cell_type": "code",
   "execution_count": 1,
   "source": [
    "!pip install kaggle"
   ],
   "outputs": [
    {
     "output_type": "stream",
     "name": "stdout",
     "text": [
      "Found existing installation: kaggle 1.5.6\n",
      "Uninstalling kaggle-1.5.6:\n",
      "  Successfully uninstalled kaggle-1.5.6\n",
      "Requirement already satisfied: pip in /home/ec2-user/anaconda3/envs/python3/lib/python3.6/site-packages (21.2.4)\n",
      "Collecting kaggle==1.5.6\n",
      "  Using cached kaggle-1.5.6-py3-none-any.whl\n",
      "Requirement already satisfied: requests in /home/ec2-user/anaconda3/envs/python3/lib/python3.6/site-packages (from kaggle==1.5.6) (2.26.0)\n",
      "Requirement already satisfied: python-slugify in /home/ec2-user/anaconda3/envs/python3/lib/python3.6/site-packages (from kaggle==1.5.6) (5.0.2)\n",
      "Requirement already satisfied: six>=1.10 in /home/ec2-user/anaconda3/envs/python3/lib/python3.6/site-packages (from kaggle==1.5.6) (1.15.0)\n",
      "Requirement already satisfied: urllib3<1.25,>=1.21.1 in /home/ec2-user/anaconda3/envs/python3/lib/python3.6/site-packages (from kaggle==1.5.6) (1.24.3)\n",
      "Requirement already satisfied: tqdm in /home/ec2-user/anaconda3/envs/python3/lib/python3.6/site-packages (from kaggle==1.5.6) (4.61.2)\n",
      "Requirement already satisfied: python-dateutil in /home/ec2-user/anaconda3/envs/python3/lib/python3.6/site-packages (from kaggle==1.5.6) (2.8.1)\n",
      "Requirement already satisfied: certifi in /home/ec2-user/anaconda3/envs/python3/lib/python3.6/site-packages (from kaggle==1.5.6) (2021.5.30)\n",
      "Requirement already satisfied: text-unidecode>=1.3 in /home/ec2-user/anaconda3/envs/python3/lib/python3.6/site-packages (from python-slugify->kaggle==1.5.6) (1.3)\n",
      "Requirement already satisfied: charset-normalizer~=2.0.0 in /home/ec2-user/anaconda3/envs/python3/lib/python3.6/site-packages (from requests->kaggle==1.5.6) (2.0.0)\n",
      "Requirement already satisfied: idna<4,>=2.5 in /home/ec2-user/anaconda3/envs/python3/lib/python3.6/site-packages (from requests->kaggle==1.5.6) (3.1)\n",
      "Installing collected packages: kaggle\n",
      "Successfully installed kaggle-1.5.6\n"
     ]
    }
   ],
   "metadata": {}
  },
  {
   "cell_type": "code",
   "execution_count": 2,
   "source": [
    "! conda install -c conda-forge librosa --yes"
   ],
   "outputs": [
    {
     "output_type": "stream",
     "name": "stdout",
     "text": [
      "Collecting package metadata (current_repodata.json): done\n",
      "Solving environment: failed with initial frozen solve. Retrying with flexible solve.\n",
      "Collecting package metadata (repodata.json): done\n",
      "Solving environment: done\n",
      "\n",
      "\n",
      "==> WARNING: A newer version of conda exists. <==\n",
      "  current version: 4.8.4\n",
      "  latest version: 4.10.3\n",
      "\n",
      "Please update conda by running\n",
      "\n",
      "    $ conda update -n base -c defaults conda\n",
      "\n",
      "\n",
      "\n",
      "## Package Plan ##\n",
      "\n",
      "  environment location: /home/ec2-user/anaconda3/envs/python3\n",
      "\n",
      "  added / updated specs:\n",
      "    - librosa\n",
      "\n",
      "\n",
      "The following packages will be downloaded:\n",
      "\n",
      "    package                    |            build\n",
      "    ---------------------------|-----------------\n",
      "    astroid-2.5                |   py36h5fab9bb_1         297 KB  conda-forge\n",
      "    flask-cors-3.0.8           |             py_0          14 KB  conda-forge\n",
      "    fsspec-0.8.7               |     pyhd8ed1ab_0          72 KB  conda-forge\n",
      "    lxml-4.6.2                 |   py36h04a5ba7_1         1.5 MB  conda-forge\n",
      "    pillow-8.1.0               |   py36ha6010c0_2         670 KB  conda-forge\n",
      "    pip-21.0.1                 |     pyhd8ed1ab_0         1.1 MB  conda-forge\n",
      "    pylint-2.6.0               |   py36h5fab9bb_1         452 KB  conda-forge\n",
      "    requests-2.13.0            |           py36_0         780 KB  conda-forge\n",
      "    urllib3-1.26.3             |     pyhd8ed1ab_0          99 KB  conda-forge\n",
      "    ------------------------------------------------------------\n",
      "                                           Total:         4.9 MB\n",
      "\n",
      "The following packages will be UPDATED:\n",
      "\n",
      "  pillow                               7.2.0-py36h8328e55_2 --> 8.1.0-py36ha6010c0_2\n",
      "\n",
      "The following packages will be SUPERSEDED by a higher-priority channel:\n",
      "\n",
      "  pylint             conda-forge/noarch::pylint-2.10.2-pyh~ --> conda-forge/linux-64::pylint-2.6.0-py36h5fab9bb_1\n",
      "  requests           conda-forge/noarch::requests-2.26.0-p~ --> conda-forge/linux-64::requests-2.13.0-py36_0\n",
      "\n",
      "The following packages will be DOWNGRADED:\n",
      "\n",
      "  astroid                              2.7.3-py36h5fab9bb_0 --> 2.5-py36h5fab9bb_1\n",
      "  dataclasses                              0.8-pyh787bdff_2 --> 0.7-pyhe4b4509_6\n",
      "  docutils                            0.17.1-py36h5fab9bb_0 --> 0.16-py36h5fab9bb_3\n",
      "  flask-cors                            3.0.10-pyhd8ed1ab_0 --> 3.0.8-py_0\n",
      "  fsspec                              2021.8.1-pyhd8ed1ab_0 --> 0.8.7-pyhd8ed1ab_0\n",
      "  lxml                                 4.6.3-py36h04a5ba7_0 --> 4.6.2-py36h04a5ba7_1\n",
      "  pip                                   21.2.4-pyhd8ed1ab_0 --> 21.0.1-pyhd8ed1ab_0\n",
      "  urllib3                               1.26.6-pyhd8ed1ab_0 --> 1.26.3-pyhd8ed1ab_0\n",
      "\n",
      "\n",
      "\n",
      "Downloading and Extracting Packages\n",
      "requests-2.13.0      | 780 KB    | ##################################### | 100% \n",
      "fsspec-0.8.7         | 72 KB     | ##################################### | 100% \n",
      "pylint-2.6.0         | 452 KB    | ##################################### | 100% \n",
      "astroid-2.5          | 297 KB    | ##################################### | 100% \n",
      "flask-cors-3.0.8     | 14 KB     | ##################################### | 100% \n",
      "urllib3-1.26.3       | 99 KB     | ##################################### | 100% \n",
      "pillow-8.1.0         | 670 KB    | ##################################### | 100% \n",
      "pip-21.0.1           | 1.1 MB    | ##################################### | 100% \n",
      "lxml-4.6.2           | 1.5 MB    | ##################################### | 100% \n",
      "Preparing transaction: done\n",
      "Verifying transaction: done\n",
      "Executing transaction: done\n"
     ]
    }
   ],
   "metadata": {
    "scrolled": true
   }
  },
  {
   "cell_type": "code",
   "execution_count": 6,
   "source": [
    "import sagemaker\r\n",
    "import boto3\r\n",
    "from sagemaker import get_execution_role\r\n",
    "\r\n",
    "\r\n",
    "import pandas as pd\r\n",
    "import librosa\r\n",
    "import matplotlib.pyplot as plt\r\n",
    "import numpy as np\r\n",
    "from PIL import Image\r\n",
    "from sklearn.utils import shuffle\r\n",
    "import json\r\n",
    "from collections import Counter\r\n",
    "from tqdm import tqdm\r\n",
    "import os\r\n",
    "from scipy import signal"
   ],
   "outputs": [],
   "metadata": {}
  },
  {
   "cell_type": "code",
   "execution_count": 3,
   "source": [
    "sagemaker_session = sagemaker.Session()\r\n",
    "sagemaker_session.boto_region_name\r\n",
    "role = get_execution_role()\r\n",
    "\r\n",
    "bucket = 'bird-sound-data'\r\n",
    "s3 = boto3.resource('s3') "
   ],
   "outputs": [],
   "metadata": {}
  },
  {
   "cell_type": "markdown",
   "source": [
    "Download data from Kaggle"
   ],
   "metadata": {}
  },
  {
   "cell_type": "code",
   "execution_count": 7,
   "source": [
    "kaggle_api = {\"username\":\"<Kaggle Name >\",\"key\":\"<API key>\"}\r\n",
    "\r\n",
    "with open('kaggle.json','w') as f:\r\n",
    "    f.write(json.dumps(kaggle_api))\r\n",
    "    \r\n",
    "! mkdir ~/.kaggle\r\n",
    "! cp kaggle.json ~/.kaggle/\r\n",
    "! chmod 600 ~/.kaggle/kaggle.json"
   ],
   "outputs": [
    {
     "output_type": "stream",
     "name": "stdout",
     "text": [
      "mkdir: cannot create directory ‘/home/ec2-user/.kaggle’: File exists\r\n"
     ]
    }
   ],
   "metadata": {}
  },
  {
   "cell_type": "code",
   "execution_count": 26,
   "source": [
    "!kaggle competitions download -c birdclef-2021 -f train_metadata.csv\r\n",
    "!unzip train_metadata.csv.zip\r\n",
    "!rm train_metadata.csv.zip"
   ],
   "outputs": [
    {
     "output_type": "stream",
     "name": "stdout",
     "text": [
      "Downloading train_metadata.csv.zip to /home/ec2-user/SageMaker\n",
      "  0%|                                               | 0.00/1.94M [00:00<?, ?B/s]\n",
      "100%|██████████████████████████████████████| 1.94M/1.94M [00:00<00:00, 92.3MB/s]\n",
      "Archive:  train_metadata.csv.zip\n",
      "replace train_metadata.csv? [y]es, [n]o, [A]ll, [N]one, [r]ename: ^C\n"
     ]
    }
   ],
   "metadata": {}
  },
  {
   "cell_type": "markdown",
   "source": [
    "Filter the dataset using the metadata"
   ],
   "metadata": {}
  },
  {
   "cell_type": "code",
   "execution_count": 8,
   "source": [
    "meta_data_path = 'train_metadata.csv'\r\n",
    "\r\n",
    "meta_data = pd.read_csv(meta_data_path)\r\n",
    "\r\n",
    "meta_data = meta_data[(meta_data['latitude']>35)&(meta_data['latitude']<70)&(meta_data['longitude']>-10)&(meta_data['longitude']<60)]\r\n",
    "\r\n",
    "counter_classes = pd.DataFrame(sorted(Counter(meta_data['primary_label']).items(), key=lambda x: x[1], reverse=True))\r\n",
    "meta_data = meta_data.merge(counter_classes, how='left', left_on='primary_label', right_on=0)\r\n",
    "\r\n",
    "del meta_data[0]\r\n",
    "meta_data = meta_data.rename(columns={1:'count_class'})\r\n",
    "\r\n",
    "meta_data = meta_data[meta_data['count_class']>= 100]\r\n",
    "meta_data = shuffle(meta_data)\r\n",
    "audio_name = meta_data['filename'].values\r\n",
    "audio_labels = meta_data['primary_label'].values\r\n",
    "\r\n",
    "cls_id_map = {name:idx for idx, name in enumerate(np.unique(audio_labels))}"
   ],
   "outputs": [],
   "metadata": {}
  },
  {
   "cell_type": "markdown",
   "source": [
    "Function used to compute the STFT"
   ],
   "metadata": {}
  },
  {
   "cell_type": "code",
   "execution_count": 9,
   "source": [
    "SR = 22050\r\n",
    "SIGNAL_LENGTH = 5 \r\n",
    "DURATION  = 10\r\n",
    "\r\n",
    "def open_audio(path):\r\n",
    "    waves, rate = librosa.load(path, sr=SR, duration=DURATION)\r\n",
    "    processed_audios = []\r\n",
    "    for i in range(0, len(waves), int(SIGNAL_LENGTH * SR)):\r\n",
    "        w = waves[i:i + int(SIGNAL_LENGTH * SR)]\r\n",
    "        if len(w) < int(SIGNAL_LENGTH * SR):\r\n",
    "            break\r\n",
    "        if np.any(np.isnan(w)) == False:\r\n",
    "            stft = signal.stft(w, nperseg=SR*5//256)[-1]\r\n",
    "            stft = np.abs(stft + 1e-10)\r\n",
    "            stft = np.log(stft)\r\n",
    "            stft = stft - np.min(stft)\r\n",
    "            stft = stft/(np.max(stft) + 1e-10)\r\n",
    "            processed_audios.append(stft)\r\n",
    "    return processed_audios"
   ],
   "outputs": [],
   "metadata": {}
  },
  {
   "cell_type": "markdown",
   "source": [
    "Main function that downloads the audio and transfers it into the S3 bucket."
   ],
   "metadata": {}
  },
  {
   "cell_type": "code",
   "execution_count": null,
   "source": [
    "!mkdir audio_files\r\n",
    "\r\n",
    "dir_path = 'audio_files/'\r\n",
    "data_path = 'data/'\r\n",
    "\r\n",
    "for audio_file, target in tqdm(zip(audio_name[:4000], audio_labels[:4000])):\r\n",
    "    !kaggle competitions download -c birdclef-2021 -p audio_files/ -f {'train_short_audio/' + target + '/' + audio_file} \r\n",
    "    audio_path = dir_path + str(audio_file)\r\n",
    "    try:\r\n",
    "        temp = open_audio(audio_path)\r\n",
    "        if not os.path.exists(data_path + target):\r\n",
    "            os.makedirs(data_path + target)\r\n",
    "\r\n",
    "        for idx, x in enumerate(temp):\r\n",
    "            img = Image.fromarray(x * 255.0).convert(\"L\")\r\n",
    "            img_save_path = data_path + target + '/' + audio_file[:-4] + f'_{idx}' '.png'\r\n",
    "            img.save(img_save_path)\r\n",
    "            s3.Bucket(bucket).upload_file(img_save_path, img_save_path)\r\n",
    "            !rm {img_save_path}\r\n",
    "        !rm {dir_path + audio_file}\r\n",
    "\r\n",
    "    except:\r\n",
    "        continue"
   ],
   "outputs": [
    {
     "output_type": "stream",
     "name": "stdout",
     "text": [
      "mkdir: cannot create directory ‘audio_files’: File exists\r\n"
     ]
    },
    {
     "output_type": "stream",
     "name": "stderr",
     "text": [
      "\r\n",
      "0it [00:00, ?it/s]"
     ]
    },
    {
     "output_type": "stream",
     "name": "stdout",
     "text": [
      "Downloading XC492030.ogg to audio_files\r\n",
      "\r\n",
      "  0%|                                                | 0.00/250k [00:00<?, ?B/s]\r\n",
      "\r\n",
      "100%|████████████████████████████████████████| 250k/250k [00:00<00:00, 40.6MB/s]\r\n"
     ]
    },
    {
     "output_type": "stream",
     "name": "stderr",
     "text": [
      "\r\n",
      "1it [00:02,  2.79s/it]"
     ]
    },
    {
     "output_type": "stream",
     "name": "stdout",
     "text": [
      "Downloading XC138514.ogg to audio_files\n",
      "  0%|                                                | 0.00/179k [00:00<?, ?B/s]\n",
      "100%|████████████████████████████████████████| 179k/179k [00:00<00:00, 37.3MB/s]\n"
     ]
    },
    {
     "output_type": "stream",
     "name": "stderr",
     "text": [
      "\r\n",
      "2it [00:04,  2.36s/it]"
     ]
    },
    {
     "output_type": "stream",
     "name": "stdout",
     "text": [
      "Downloading XC393216.ogg to audio_files\r\n",
      "\r\n",
      "  0%|                                                | 0.00/275k [00:00<?, ?B/s]\r\n",
      "\r\n",
      "100%|████████████████████████████████████████| 275k/275k [00:00<00:00, 52.6MB/s]\r\n"
     ]
    },
    {
     "output_type": "stream",
     "name": "stderr",
     "text": [
      "\r\n",
      "3it [00:06,  2.17s/it]"
     ]
    },
    {
     "output_type": "stream",
     "name": "stdout",
     "text": [
      "Downloading XC447481.ogg to audio_files\r\n",
      "\r\n",
      "  0%|                                                | 0.00/188k [00:00<?, ?B/s]\r\n",
      "\r\n",
      "100%|████████████████████████████████████████| 188k/188k [00:00<00:00, 36.0MB/s]\r\n"
     ]
    },
    {
     "output_type": "stream",
     "name": "stderr",
     "text": [
      "\r\n",
      "4it [00:08,  2.09s/it]"
     ]
    },
    {
     "output_type": "stream",
     "name": "stdout",
     "text": [
      "Downloading XC383219.ogg to audio_files\r\n",
      "\r\n",
      "  0%|                                                | 0.00/169k [00:00<?, ?B/s]\r\n",
      "\r\n",
      "100%|████████████████████████████████████████| 169k/169k [00:00<00:00, 31.2MB/s]\r\n"
     ]
    },
    {
     "output_type": "stream",
     "name": "stderr",
     "text": [
      "\r\n",
      "5it [00:10,  2.02s/it]"
     ]
    },
    {
     "output_type": "stream",
     "name": "stdout",
     "text": [
      "Downloading XC541527.ogg.zip to audio_files\r\n",
      "\r\n",
      "  0%|                                               | 0.00/1.58M [00:00<?, ?B/s]\r\n",
      "\r\n",
      "100%|██████████████████████████████████████| 1.58M/1.58M [00:00<00:00, 93.7MB/s]\r\n"
     ]
    },
    {
     "output_type": "stream",
     "name": "stderr",
     "text": [
      "/home/ec2-user/anaconda3/envs/python3/lib/python3.6/site-packages/librosa/core/audio.py:165: UserWarning: PySoundFile failed. Trying audioread instead.\n",
      "  warnings.warn(\"PySoundFile failed. Trying audioread instead.\")\n",
      "\r\n",
      "6it [00:11,  1.73s/it]"
     ]
    },
    {
     "output_type": "stream",
     "name": "stdout",
     "text": [
      "Downloading XC541545.ogg.zip to audio_files\n",
      " 76%|████████████████████████████▉         | 2.00M/2.62M [00:00<00:00, 18.3MB/s]\n",
      "100%|██████████████████████████████████████| 2.62M/2.62M [00:00<00:00, 22.7MB/s]\n"
     ]
    },
    {
     "output_type": "stream",
     "name": "stderr",
     "text": [
      "/home/ec2-user/anaconda3/envs/python3/lib/python3.6/site-packages/librosa/core/audio.py:165: UserWarning: PySoundFile failed. Trying audioread instead.\n",
      "  warnings.warn(\"PySoundFile failed. Trying audioread instead.\")\n",
      "\r\n",
      "7it [00:13,  1.58s/it]"
     ]
    },
    {
     "output_type": "stream",
     "name": "stdout",
     "text": [
      "Downloading XC371129.ogg to audio_files\r\n",
      "\r\n",
      "  0%|                                                | 0.00/172k [00:00<?, ?B/s]\r\n",
      "\r\n",
      "100%|████████████████████████████████████████| 172k/172k [00:00<00:00, 28.4MB/s]\r\n"
     ]
    },
    {
     "output_type": "stream",
     "name": "stderr",
     "text": [
      "\r\n",
      "8it [00:14,  1.66s/it]"
     ]
    },
    {
     "output_type": "stream",
     "name": "stdout",
     "text": [
      "Downloading XC189951.ogg to audio_files\r\n",
      "\r\n",
      "  0%|                                                | 0.00/124k [00:00<?, ?B/s]\r\n",
      "\r\n",
      "100%|████████████████████████████████████████| 124k/124k [00:00<00:00, 33.0MB/s]\r\n"
     ]
    },
    {
     "output_type": "stream",
     "name": "stderr",
     "text": [
      "\r\n",
      "9it [00:16,  1.76s/it]"
     ]
    },
    {
     "output_type": "stream",
     "name": "stdout",
     "text": [
      "Downloading XC439347.ogg to audio_files\n",
      "  0%|                                                | 0.00/394k [00:00<?, ?B/s]\n",
      "100%|████████████████████████████████████████| 394k/394k [00:00<00:00, 45.2MB/s]\n"
     ]
    },
    {
     "output_type": "stream",
     "name": "stderr",
     "text": [
      "\r\n",
      "10it [00:18,  1.78s/it]"
     ]
    },
    {
     "output_type": "stream",
     "name": "stdout",
     "text": [
      "Downloading XC612503.ogg to audio_files\r\n",
      "\r\n",
      "  0%|                                                | 0.00/544k [00:00<?, ?B/s]\r\n",
      "\r\n",
      "100%|████████████████████████████████████████| 544k/544k [00:00<00:00, 66.5MB/s]\r\n"
     ]
    },
    {
     "output_type": "stream",
     "name": "stderr",
     "text": [
      "\r\n",
      "11it [00:20,  1.83s/it]"
     ]
    },
    {
     "output_type": "stream",
     "name": "stdout",
     "text": [
      "Downloading XC412763.ogg to audio_files\r\n",
      "\r\n",
      "  0%|                                                | 0.00/152k [00:00<?, ?B/s]\r\n",
      "\r\n",
      "100%|████████████████████████████████████████| 152k/152k [00:00<00:00, 46.4MB/s]\r\n"
     ]
    },
    {
     "output_type": "stream",
     "name": "stderr",
     "text": [
      "\r\n",
      "12it [00:22,  1.87s/it]"
     ]
    },
    {
     "output_type": "stream",
     "name": "stdout",
     "text": [
      "Downloading XC374531.ogg to audio_files\r\n",
      "\r\n",
      "  0%|                                                | 0.00/110k [00:00<?, ?B/s]\r\n",
      "\r\n",
      "100%|████████████████████████████████████████| 110k/110k [00:00<00:00, 28.3MB/s]\r\n"
     ]
    },
    {
     "output_type": "stream",
     "name": "stderr",
     "text": [
      "\r\n",
      "13it [00:24,  1.82s/it]"
     ]
    },
    {
     "output_type": "stream",
     "name": "stdout",
     "text": [
      "Downloading XC559610.ogg to audio_files\r\n",
      "\r\n",
      "  0%|                                                | 0.00/433k [00:00<?, ?B/s]\r\n",
      "\r\n",
      "100%|████████████████████████████████████████| 433k/433k [00:00<00:00, 54.1MB/s]\r\n"
     ]
    },
    {
     "output_type": "stream",
     "name": "stderr",
     "text": [
      "\r\n",
      "14it [00:26,  1.86s/it]"
     ]
    },
    {
     "output_type": "stream",
     "name": "stdout",
     "text": [
      "Downloading XC199496.ogg to audio_files\r\n",
      "\r\n",
      "  0%|                                                | 0.00/197k [00:00<?, ?B/s]\r\n",
      "\r\n",
      "100%|████████████████████████████████████████| 197k/197k [00:00<00:00, 34.5MB/s]\r\n"
     ]
    },
    {
     "output_type": "stream",
     "name": "stderr",
     "text": [
      "\r\n",
      "15it [00:28,  1.85s/it]"
     ]
    },
    {
     "output_type": "stream",
     "name": "stdout",
     "text": [
      "Downloading XC454289.ogg to audio_files\r\n",
      "\r\n",
      "  0%|                                                | 0.00/183k [00:00<?, ?B/s]\r\n",
      "\r\n",
      "100%|████████████████████████████████████████| 183k/183k [00:00<00:00, 33.2MB/s]\r\n"
     ]
    },
    {
     "output_type": "stream",
     "name": "stderr",
     "text": [
      "\r\n",
      "16it [00:29,  1.85s/it]"
     ]
    },
    {
     "output_type": "stream",
     "name": "stdout",
     "text": [
      "Downloading XC579212.ogg.zip to audio_files\n",
      "100%|██████████████████████████████████████| 1.42M/1.42M [00:00<00:00, 14.7MB/s]\n",
      "100%|██████████████████████████████████████| 1.42M/1.42M [00:00<00:00, 14.6MB/s]\n"
     ]
    },
    {
     "output_type": "stream",
     "name": "stderr",
     "text": [
      "/home/ec2-user/anaconda3/envs/python3/lib/python3.6/site-packages/librosa/core/audio.py:165: UserWarning: PySoundFile failed. Trying audioread instead.\n",
      "  warnings.warn(\"PySoundFile failed. Trying audioread instead.\")\n",
      "\r\n",
      "17it [00:31,  1.65s/it]"
     ]
    },
    {
     "output_type": "stream",
     "name": "stdout",
     "text": [
      "Downloading XC571315.ogg to audio_files\n",
      "  0%|                                                | 0.00/571k [00:00<?, ?B/s]\n",
      "100%|████████████████████████████████████████| 571k/571k [00:00<00:00, 7.10MB/s]\n"
     ]
    },
    {
     "output_type": "stream",
     "name": "stderr",
     "text": [
      "\r\n",
      "18it [00:33,  1.80s/it]"
     ]
    },
    {
     "output_type": "stream",
     "name": "stdout",
     "text": [
      "Downloading XC42338.ogg to audio_files\n",
      "  0%|                                                | 0.00/123k [00:00<?, ?B/s]\n",
      "100%|████████████████████████████████████████| 123k/123k [00:00<00:00, 32.6MB/s]\n"
     ]
    },
    {
     "output_type": "stream",
     "name": "stderr",
     "text": [
      "\r\n",
      "19it [00:35,  1.83s/it]"
     ]
    },
    {
     "output_type": "stream",
     "name": "stdout",
     "text": [
      "Downloading XC315557.ogg.zip to audio_files\n",
      "  0%|                                               | 0.00/5.58M [00:00<?, ?B/s]\n",
      "100%|██████████████████████████████████████| 5.58M/5.58M [00:00<00:00, 88.0MB/s]\n"
     ]
    },
    {
     "output_type": "stream",
     "name": "stderr",
     "text": [
      "/home/ec2-user/anaconda3/envs/python3/lib/python3.6/site-packages/librosa/core/audio.py:165: UserWarning: PySoundFile failed. Trying audioread instead.\n",
      "  warnings.warn(\"PySoundFile failed. Trying audioread instead.\")\n",
      "\r\n",
      "20it [00:36,  1.61s/it]"
     ]
    },
    {
     "output_type": "stream",
     "name": "stdout",
     "text": [
      "Downloading XC137666.ogg to audio_files\r\n",
      "\r\n",
      "  0%|                                                | 0.00/279k [00:00<?, ?B/s]\r\n",
      "\r\n",
      "100%|████████████████████████████████████████| 279k/279k [00:00<00:00, 44.3MB/s]\r\n"
     ]
    },
    {
     "output_type": "stream",
     "name": "stderr",
     "text": [
      "\r\n",
      "21it [00:38,  1.75s/it]"
     ]
    },
    {
     "output_type": "stream",
     "name": "stdout",
     "text": [
      "Downloading XC381818.ogg to audio_files\n",
      "  0%|                                                | 0.00/121k [00:00<?, ?B/s]\n",
      "100%|████████████████████████████████████████| 121k/121k [00:00<00:00, 28.5MB/s]\n"
     ]
    },
    {
     "output_type": "stream",
     "name": "stderr",
     "text": [
      "\r\n",
      "22it [00:40,  1.77s/it]"
     ]
    },
    {
     "output_type": "stream",
     "name": "stdout",
     "text": [
      "Downloading XC133448.ogg to audio_files\r\n",
      "\r\n",
      "  0%|                                                | 0.00/160k [00:00<?, ?B/s]\r\n",
      "\r\n",
      "100%|████████████████████████████████████████| 160k/160k [00:00<00:00, 37.8MB/s]\r\n"
     ]
    },
    {
     "output_type": "stream",
     "name": "stderr",
     "text": [
      "\r\n",
      "23it [00:42,  1.82s/it]"
     ]
    },
    {
     "output_type": "stream",
     "name": "stdout",
     "text": [
      "Downloading XC582664.ogg to audio_files\r\n",
      "\r\n",
      "  0%|                                               | 0.00/88.6k [00:00<?, ?B/s]\r\n",
      "\r\n",
      "100%|██████████████████████████████████████| 88.6k/88.6k [00:00<00:00, 33.7MB/s]\r\n"
     ]
    },
    {
     "output_type": "stream",
     "name": "stderr",
     "text": [
      "\r\n",
      "24it [00:43,  1.73s/it]"
     ]
    },
    {
     "output_type": "stream",
     "name": "stdout",
     "text": [
      "Downloading XC361744.ogg to audio_files\r\n",
      "\r\n",
      "  0%|                                                | 0.00/405k [00:00<?, ?B/s]\r\n",
      "\r\n",
      "100%|████████████████████████████████████████| 405k/405k [00:00<00:00, 52.7MB/s]\r\n"
     ]
    },
    {
     "output_type": "stream",
     "name": "stderr",
     "text": [
      "\r\n",
      "25it [00:45,  1.78s/it]"
     ]
    },
    {
     "output_type": "stream",
     "name": "stdout",
     "text": [
      "Downloading XC151294.ogg to audio_files\r\n",
      "\r\n",
      "  0%|                                                | 0.00/703k [00:00<?, ?B/s]\r\n",
      "\r\n",
      "100%|████████████████████████████████████████| 703k/703k [00:00<00:00, 59.2MB/s]\r\n"
     ]
    },
    {
     "output_type": "stream",
     "name": "stderr",
     "text": [
      "\r\n",
      "26it [00:47,  1.82s/it]"
     ]
    },
    {
     "output_type": "stream",
     "name": "stdout",
     "text": [
      "Downloading XC127149.ogg to audio_files\r\n",
      "\r\n",
      "  0%|                                                | 0.00/234k [00:00<?, ?B/s]\r\n",
      "\r\n",
      "100%|████████████████████████████████████████| 234k/234k [00:00<00:00, 34.0MB/s]\r\n"
     ]
    },
    {
     "output_type": "stream",
     "name": "stderr",
     "text": [
      "\r\n",
      "27it [00:49,  1.87s/it]"
     ]
    },
    {
     "output_type": "stream",
     "name": "stdout",
     "text": [
      "Downloading XC303987.ogg to audio_files\r\n",
      "\r\n",
      "  0%|                                                | 0.00/131k [00:00<?, ?B/s]\r\n",
      "\r\n",
      "100%|████████████████████████████████████████| 131k/131k [00:00<00:00, 26.6MB/s]\r\n"
     ]
    },
    {
     "output_type": "stream",
     "name": "stderr",
     "text": [
      "\r\n",
      "28it [00:50,  1.77s/it]"
     ]
    },
    {
     "output_type": "stream",
     "name": "stdout",
     "text": [
      "Downloading XC585761.ogg to audio_files\r\n",
      "\r\n",
      "  0%|                                                | 0.00/306k [00:00<?, ?B/s]\r\n",
      "\r\n",
      "100%|████████████████████████████████████████| 306k/306k [00:00<00:00, 37.8MB/s]\r\n"
     ]
    },
    {
     "output_type": "stream",
     "name": "stderr",
     "text": [
      "\r\n",
      "29it [00:52,  1.83s/it]"
     ]
    },
    {
     "output_type": "stream",
     "name": "stdout",
     "text": [
      "Downloading XC217664.ogg to audio_files\r\n",
      "\r\n",
      "  0%|                                                | 0.00/772k [00:00<?, ?B/s]\r\n",
      "\r\n",
      "100%|████████████████████████████████████████| 772k/772k [00:00<00:00, 43.7MB/s]\r\n"
     ]
    },
    {
     "output_type": "stream",
     "name": "stderr",
     "text": [
      "\r\n",
      "30it [00:54,  1.83s/it]"
     ]
    },
    {
     "output_type": "stream",
     "name": "stdout",
     "text": [
      "Downloading XC535729.ogg to audio_files\r\n",
      "\r\n",
      "  0%|                                                | 0.00/992k [00:00<?, ?B/s]\r\n",
      "\r\n",
      "100%|████████████████████████████████████████| 992k/992k [00:00<00:00, 67.7MB/s]\r\n"
     ]
    },
    {
     "output_type": "stream",
     "name": "stderr",
     "text": [
      "\r\n",
      "31it [00:56,  1.87s/it]"
     ]
    },
    {
     "output_type": "stream",
     "name": "stdout",
     "text": [
      "Downloading XC285222.ogg to audio_files\r\n",
      "\r\n",
      "  0%|                                                | 0.00/179k [00:00<?, ?B/s]\r\n",
      "\r\n",
      "100%|████████████████████████████████████████| 179k/179k [00:00<00:00, 41.6MB/s]\r\n"
     ]
    },
    {
     "output_type": "stream",
     "name": "stderr",
     "text": [
      "\r\n",
      "32it [00:58,  1.86s/it]"
     ]
    },
    {
     "output_type": "stream",
     "name": "stdout",
     "text": [
      "Downloading XC476092.ogg to audio_files\n",
      "  0%|                                                | 0.00/344k [00:00<?, ?B/s]\n",
      "100%|████████████████████████████████████████| 344k/344k [00:00<00:00, 5.09MB/s]\n"
     ]
    },
    {
     "output_type": "stream",
     "name": "stderr",
     "text": [
      "\r\n",
      "33it [01:00,  1.94s/it]"
     ]
    },
    {
     "output_type": "stream",
     "name": "stdout",
     "text": [
      "Downloading XC113968.ogg to audio_files\n",
      "  0%|                                                | 0.00/614k [00:00<?, ?B/s]\n",
      "100%|████████████████████████████████████████| 614k/614k [00:00<00:00, 7.49MB/s]\n"
     ]
    },
    {
     "output_type": "stream",
     "name": "stderr",
     "text": [
      "\r\n",
      "34it [01:05,  2.87s/it]"
     ]
    },
    {
     "output_type": "stream",
     "name": "stdout",
     "text": [
      "Downloading XC606931.ogg to audio_files\r\n",
      "\r\n",
      "  0%|                                                | 0.00/438k [00:00<?, ?B/s]\r\n",
      "\r\n",
      "100%|████████████████████████████████████████| 438k/438k [00:00<00:00, 51.0MB/s]\r\n"
     ]
    },
    {
     "output_type": "stream",
     "name": "stderr",
     "text": [
      "\r\n",
      "35it [01:07,  2.56s/it]"
     ]
    },
    {
     "output_type": "stream",
     "name": "stdout",
     "text": [
      "Downloading XC611903.ogg.zip to audio_files\n",
      "  0%|                                               | 0.00/2.50M [00:00<?, ?B/s]\n",
      "100%|██████████████████████████████████████| 2.50M/2.50M [00:00<00:00, 74.4MB/s]\n"
     ]
    },
    {
     "output_type": "stream",
     "name": "stderr",
     "text": [
      "/home/ec2-user/anaconda3/envs/python3/lib/python3.6/site-packages/librosa/core/audio.py:165: UserWarning: PySoundFile failed. Trying audioread instead.\n",
      "  warnings.warn(\"PySoundFile failed. Trying audioread instead.\")\n",
      "\r\n",
      "36it [01:08,  2.11s/it]"
     ]
    },
    {
     "output_type": "stream",
     "name": "stdout",
     "text": [
      "Downloading XC521623.ogg to audio_files\r\n",
      "\r\n",
      "  0%|                                                | 0.00/209k [00:00<?, ?B/s]\r\n",
      "\r\n",
      "100%|████████████████████████████████████████| 209k/209k [00:00<00:00, 44.7MB/s]\r\n"
     ]
    },
    {
     "output_type": "stream",
     "name": "stderr",
     "text": [
      "\r\n",
      "37it [01:10,  2.07s/it]"
     ]
    },
    {
     "output_type": "stream",
     "name": "stdout",
     "text": [
      "Downloading XC348244.ogg to audio_files\n",
      "  0%|                                                | 0.00/161k [00:00<?, ?B/s]\n",
      "100%|████████████████████████████████████████| 161k/161k [00:00<00:00, 31.1MB/s]\n"
     ]
    },
    {
     "output_type": "stream",
     "name": "stderr",
     "text": [
      "\r\n",
      "38it [01:12,  2.00s/it]"
     ]
    },
    {
     "output_type": "stream",
     "name": "stdout",
     "text": [
      "Downloading XC373688.ogg to audio_files\r\n",
      "\r\n",
      "  0%|                                                | 0.00/651k [00:00<?, ?B/s]\r\n",
      "\r\n",
      "100%|████████████████████████████████████████| 651k/651k [00:00<00:00, 69.4MB/s]\r\n"
     ]
    },
    {
     "output_type": "stream",
     "name": "stderr",
     "text": [
      "\r\n",
      "39it [01:14,  1.97s/it]"
     ]
    },
    {
     "output_type": "stream",
     "name": "stdout",
     "text": [
      "Downloading XC345260.ogg to audio_files\r\n",
      "\r\n",
      "  0%|                                                | 0.00/223k [00:00<?, ?B/s]\r\n",
      "\r\n",
      "100%|████████████████████████████████████████| 223k/223k [00:00<00:00, 39.5MB/s]\r\n"
     ]
    },
    {
     "output_type": "stream",
     "name": "stderr",
     "text": [
      "\r\n",
      "40it [01:16,  1.93s/it]"
     ]
    },
    {
     "output_type": "stream",
     "name": "stdout",
     "text": [
      "Downloading XC371768.ogg to audio_files\r\n",
      "\r\n",
      "  0%|                                                | 0.00/462k [00:00<?, ?B/s]\r\n",
      "\r\n",
      "100%|████████████████████████████████████████| 462k/462k [00:00<00:00, 54.4MB/s]\r\n"
     ]
    },
    {
     "output_type": "stream",
     "name": "stderr",
     "text": [
      "\r\n",
      "41it [01:18,  1.94s/it]"
     ]
    },
    {
     "output_type": "stream",
     "name": "stdout",
     "text": [
      "Downloading XC309256.ogg to audio_files\r\n",
      "\r\n",
      "  0%|                                                | 0.00/208k [00:00<?, ?B/s]\r\n",
      "\r\n",
      "100%|████████████████████████████████████████| 208k/208k [00:00<00:00, 48.2MB/s]\r\n"
     ]
    },
    {
     "output_type": "stream",
     "name": "stderr",
     "text": [
      "\r\n",
      "42it [01:20,  1.92s/it]"
     ]
    },
    {
     "output_type": "stream",
     "name": "stdout",
     "text": [
      "Downloading XC542112.ogg to audio_files\r\n",
      "\r\n",
      "  0%|                                                | 0.00/618k [00:00<?, ?B/s]\r\n",
      "\r\n",
      "100%|████████████████████████████████████████| 618k/618k [00:00<00:00, 49.6MB/s]\r\n"
     ]
    },
    {
     "output_type": "stream",
     "name": "stderr",
     "text": [
      "\r\n",
      "43it [01:22,  1.94s/it]"
     ]
    },
    {
     "output_type": "stream",
     "name": "stdout",
     "text": [
      "Downloading XC428204.ogg to audio_files\r\n",
      "\r\n",
      "  0%|                                                | 0.00/572k [00:00<?, ?B/s]\r\n",
      "\r\n",
      "100%|████████████████████████████████████████| 572k/572k [00:00<00:00, 54.0MB/s]\r\n"
     ]
    },
    {
     "output_type": "stream",
     "name": "stderr",
     "text": [
      "\r\n",
      "44it [01:23,  1.91s/it]"
     ]
    },
    {
     "output_type": "stream",
     "name": "stdout",
     "text": [
      "Downloading XC372992.ogg to audio_files\r\n",
      "\r\n",
      "  0%|                                                | 0.00/707k [00:00<?, ?B/s]\r\n",
      "\r\n",
      "100%|████████████████████████████████████████| 707k/707k [00:00<00:00, 56.0MB/s]\r\n"
     ]
    },
    {
     "output_type": "stream",
     "name": "stderr",
     "text": [
      "\r\n",
      "45it [01:25,  1.88s/it]"
     ]
    },
    {
     "output_type": "stream",
     "name": "stdout",
     "text": [
      "Downloading XC486210.ogg to audio_files\r\n",
      "\r\n",
      "  0%|                                                | 0.00/457k [00:00<?, ?B/s]\r\n",
      "\r\n",
      "100%|████████████████████████████████████████| 457k/457k [00:00<00:00, 44.4MB/s]\r\n"
     ]
    },
    {
     "output_type": "stream",
     "name": "stderr",
     "text": [
      "\r\n",
      "46it [01:27,  1.87s/it]"
     ]
    },
    {
     "output_type": "stream",
     "name": "stdout",
     "text": [
      "Downloading XC601778.ogg to audio_files\r\n",
      "\r\n",
      "  0%|                                               | 0.00/1.00M [00:00<?, ?B/s]\r\n",
      "\r\n",
      "100%|██████████████████████████████████████| 1.00M/1.00M [00:00<00:00, 72.1MB/s]\r\n"
     ]
    },
    {
     "output_type": "stream",
     "name": "stderr",
     "text": [
      "\r\n",
      "47it [01:29,  1.88s/it]"
     ]
    },
    {
     "output_type": "stream",
     "name": "stdout",
     "text": [
      "Downloading XC548478.ogg to audio_files\r\n",
      "\r\n",
      "  0%|                                                | 0.00/123k [00:00<?, ?B/s]\r\n",
      "\r\n",
      "100%|████████████████████████████████████████| 123k/123k [00:00<00:00, 43.6MB/s]\r\n"
     ]
    },
    {
     "output_type": "stream",
     "name": "stderr",
     "text": [
      "\r\n",
      "48it [01:31,  1.91s/it]"
     ]
    },
    {
     "output_type": "stream",
     "name": "stdout",
     "text": [
      "Downloading XC208991.ogg.zip to audio_files\n",
      " 71%|███████████████████████████           | 2.00M/2.81M [00:00<00:00, 18.8MB/s]\n",
      "100%|██████████████████████████████████████| 2.81M/2.81M [00:00<00:00, 24.6MB/s]\n"
     ]
    },
    {
     "output_type": "stream",
     "name": "stderr",
     "text": [
      "/home/ec2-user/anaconda3/envs/python3/lib/python3.6/site-packages/librosa/core/audio.py:165: UserWarning: PySoundFile failed. Trying audioread instead.\n",
      "  warnings.warn(\"PySoundFile failed. Trying audioread instead.\")\n",
      "\r\n",
      "49it [01:32,  1.69s/it]"
     ]
    },
    {
     "output_type": "stream",
     "name": "stdout",
     "text": [
      "Downloading XC327882.ogg.zip to audio_files\n",
      " 74%|████████████████████████████▏         | 2.00M/2.70M [00:00<00:00, 18.2MB/s]\n",
      "100%|██████████████████████████████████████| 2.70M/2.70M [00:00<00:00, 23.0MB/s]\n"
     ]
    },
    {
     "output_type": "stream",
     "name": "stderr",
     "text": [
      "/home/ec2-user/anaconda3/envs/python3/lib/python3.6/site-packages/librosa/core/audio.py:165: UserWarning: PySoundFile failed. Trying audioread instead.\n",
      "  warnings.warn(\"PySoundFile failed. Trying audioread instead.\")\n",
      "\r\n",
      "50it [01:33,  1.54s/it]"
     ]
    },
    {
     "output_type": "stream",
     "name": "stdout",
     "text": [
      "Downloading XC539652.ogg to audio_files\r\n",
      "\r\n",
      "  0%|                                                | 0.00/412k [00:00<?, ?B/s]\r\n",
      "\r\n",
      "100%|████████████████████████████████████████| 412k/412k [00:00<00:00, 47.7MB/s]\r\n"
     ]
    },
    {
     "output_type": "stream",
     "name": "stderr",
     "text": [
      "\r\n",
      "51it [01:35,  1.64s/it]"
     ]
    },
    {
     "output_type": "stream",
     "name": "stdout",
     "text": [
      "Downloading XC554109.ogg to audio_files\r\n",
      "\r\n",
      "  0%|                                                | 0.00/201k [00:00<?, ?B/s]\r\n",
      "\r\n",
      "100%|████████████████████████████████████████| 201k/201k [00:00<00:00, 41.6MB/s]\r\n"
     ]
    },
    {
     "output_type": "stream",
     "name": "stderr",
     "text": [
      "\r\n",
      "52it [01:37,  1.73s/it]"
     ]
    },
    {
     "output_type": "stream",
     "name": "stdout",
     "text": [
      "Downloading XC383283.ogg to audio_files\r\n",
      "\r\n",
      "  0%|                                                | 0.00/347k [00:00<?, ?B/s]\r\n",
      "\r\n",
      "100%|████████████████████████████████████████| 347k/347k [00:00<00:00, 49.1MB/s]\r\n"
     ]
    },
    {
     "output_type": "stream",
     "name": "stderr",
     "text": [
      "\r\n",
      "53it [01:39,  1.81s/it]"
     ]
    },
    {
     "output_type": "stream",
     "name": "stdout",
     "text": [
      "Downloading XC363604.ogg to audio_files\n",
      "  0%|                                               | 0.00/96.5k [00:00<?, ?B/s]\n",
      "100%|██████████████████████████████████████| 96.5k/96.5k [00:00<00:00, 31.6MB/s]\n"
     ]
    },
    {
     "output_type": "stream",
     "name": "stderr",
     "text": [
      "\r\n",
      "54it [01:41,  1.76s/it]"
     ]
    },
    {
     "output_type": "stream",
     "name": "stdout",
     "text": [
      "Downloading XC602791.ogg to audio_files\r\n",
      "\r\n",
      "  0%|                                                | 0.00/857k [00:00<?, ?B/s]\r\n",
      "\r\n",
      "100%|████████████████████████████████████████| 857k/857k [00:00<00:00, 63.0MB/s]\r\n"
     ]
    },
    {
     "output_type": "stream",
     "name": "stderr",
     "text": [
      "\r\n",
      "55it [01:43,  1.86s/it]"
     ]
    },
    {
     "output_type": "stream",
     "name": "stdout",
     "text": [
      "Downloading XC322540.ogg.zip to audio_files\n",
      "  0%|                                               | 0.00/1.50M [00:00<?, ?B/s]\n",
      "100%|██████████████████████████████████████| 1.50M/1.50M [00:00<00:00, 66.5MB/s]\n"
     ]
    },
    {
     "output_type": "stream",
     "name": "stderr",
     "text": [
      "/home/ec2-user/anaconda3/envs/python3/lib/python3.6/site-packages/librosa/core/audio.py:165: UserWarning: PySoundFile failed. Trying audioread instead.\n",
      "  warnings.warn(\"PySoundFile failed. Trying audioread instead.\")\n",
      "\r\n",
      "56it [01:44,  1.68s/it]"
     ]
    },
    {
     "output_type": "stream",
     "name": "stdout",
     "text": [
      "Downloading XC133844.ogg to audio_files\r\n",
      "\r\n",
      "  0%|                                               | 0.00/97.9k [00:00<?, ?B/s]\r\n",
      "\r\n",
      "100%|██████████████████████████████████████| 97.9k/97.9k [00:00<00:00, 35.3MB/s]\r\n"
     ]
    },
    {
     "output_type": "stream",
     "name": "stderr",
     "text": [
      "\r\n",
      "57it [01:46,  1.67s/it]"
     ]
    },
    {
     "output_type": "stream",
     "name": "stdout",
     "text": [
      "Downloading XC587149.ogg.zip to audio_files\n",
      " 95%|████████████████████████████████████  | 9.00M/9.50M [00:00<00:00, 46.8MB/s]\n",
      "100%|██████████████████████████████████████| 9.50M/9.50M [00:00<00:00, 48.4MB/s]\n"
     ]
    },
    {
     "output_type": "stream",
     "name": "stderr",
     "text": [
      "/home/ec2-user/anaconda3/envs/python3/lib/python3.6/site-packages/librosa/core/audio.py:165: UserWarning: PySoundFile failed. Trying audioread instead.\n",
      "  warnings.warn(\"PySoundFile failed. Trying audioread instead.\")\n",
      "\r\n",
      "58it [01:47,  1.55s/it]"
     ]
    },
    {
     "output_type": "stream",
     "name": "stdout",
     "text": [
      "Downloading XC544373.ogg to audio_files\r\n",
      "\r\n",
      "  0%|                                                | 0.00/626k [00:00<?, ?B/s]\r\n",
      "\r\n",
      "100%|████████████████████████████████████████| 626k/626k [00:00<00:00, 47.9MB/s]\r\n"
     ]
    },
    {
     "output_type": "stream",
     "name": "stderr",
     "text": [
      "\r\n",
      "59it [01:49,  1.65s/it]"
     ]
    },
    {
     "output_type": "stream",
     "name": "stdout",
     "text": [
      "Downloading XC422535.ogg to audio_files\r\n",
      "\r\n",
      "  0%|                                                | 0.00/717k [00:00<?, ?B/s]\r\n",
      "\r\n",
      "100%|████████████████████████████████████████| 717k/717k [00:00<00:00, 46.5MB/s]\r\n"
     ]
    },
    {
     "output_type": "stream",
     "name": "stderr",
     "text": [
      "\r\n",
      "60it [01:51,  1.70s/it]"
     ]
    },
    {
     "output_type": "stream",
     "name": "stdout",
     "text": [
      "Downloading XC541822.ogg to audio_files\r\n",
      "\r\n",
      "  0%|                                                | 0.00/132k [00:00<?, ?B/s]\r\n",
      "\r\n",
      "100%|████████████████████████████████████████| 132k/132k [00:00<00:00, 28.9MB/s]\r\n"
     ]
    },
    {
     "output_type": "stream",
     "name": "stderr",
     "text": [
      "\r\n",
      "61it [01:53,  1.79s/it]"
     ]
    },
    {
     "output_type": "stream",
     "name": "stdout",
     "text": [
      "Downloading XC341647.ogg.zip to audio_files\r\n",
      "\r\n",
      "  0%|                                               | 0.00/1.06M [00:00<?, ?B/s]\r\n",
      "\r\n",
      "100%|██████████████████████████████████████| 1.06M/1.06M [00:00<00:00, 60.5MB/s]\r\n"
     ]
    },
    {
     "output_type": "stream",
     "name": "stderr",
     "text": [
      "/home/ec2-user/anaconda3/envs/python3/lib/python3.6/site-packages/librosa/core/audio.py:165: UserWarning: PySoundFile failed. Trying audioread instead.\n",
      "  warnings.warn(\"PySoundFile failed. Trying audioread instead.\")\n",
      "\r\n",
      "62it [01:54,  1.57s/it]"
     ]
    },
    {
     "output_type": "stream",
     "name": "stdout",
     "text": [
      "Downloading XC478660.ogg to audio_files\n",
      "  0%|                                                | 0.00/639k [00:00<?, ?B/s]\n",
      "100%|████████████████████████████████████████| 639k/639k [00:00<00:00, 60.6MB/s]\n"
     ]
    },
    {
     "output_type": "stream",
     "name": "stderr",
     "text": [
      "\r\n",
      "63it [01:56,  1.67s/it]"
     ]
    },
    {
     "output_type": "stream",
     "name": "stdout",
     "text": [
      "Downloading XC524893.ogg to audio_files\r\n",
      "\r\n",
      "  0%|                                                | 0.00/301k [00:00<?, ?B/s]\r\n",
      "\r\n",
      "100%|████████████████████████████████████████| 301k/301k [00:00<00:00, 62.6MB/s]\r\n"
     ]
    },
    {
     "output_type": "stream",
     "name": "stderr",
     "text": [
      "\r\n",
      "64it [01:57,  1.72s/it]"
     ]
    },
    {
     "output_type": "stream",
     "name": "stdout",
     "text": [
      "Downloading XC522642.ogg to audio_files\n",
      "  0%|                                                | 0.00/647k [00:00<?, ?B/s]\n",
      "100%|████████████████████████████████████████| 647k/647k [00:00<00:00, 7.88MB/s]\n"
     ]
    },
    {
     "output_type": "stream",
     "name": "stderr",
     "text": [
      "\r\n",
      "65it [01:59,  1.79s/it]"
     ]
    },
    {
     "output_type": "stream",
     "name": "stdout",
     "text": [
      "Downloading XC552831.ogg to audio_files\n",
      "  0%|                                                | 0.00/122k [00:00<?, ?B/s]\n",
      "100%|████████████████████████████████████████| 122k/122k [00:00<00:00, 2.79MB/s]\n"
     ]
    },
    {
     "output_type": "stream",
     "name": "stderr",
     "text": [
      "\r\n",
      "66it [02:02,  1.90s/it]"
     ]
    },
    {
     "output_type": "stream",
     "name": "stdout",
     "text": [
      "Downloading XC282194.ogg to audio_files\r\n",
      "\r\n",
      "  0%|                                                | 0.00/601k [00:00<?, ?B/s]\r\n",
      "\r\n",
      "100%|████████████████████████████████████████| 601k/601k [00:00<00:00, 61.1MB/s]\r\n"
     ]
    },
    {
     "output_type": "stream",
     "name": "stderr",
     "text": [
      "\r\n",
      "67it [02:04,  1.91s/it]"
     ]
    },
    {
     "output_type": "stream",
     "name": "stdout",
     "text": [
      "Downloading XC616116.ogg to audio_files\n",
      "  0%|                                                | 0.00/413k [00:00<?, ?B/s]\n",
      "100%|████████████████████████████████████████| 413k/413k [00:00<00:00, 57.4MB/s]\n"
     ]
    },
    {
     "output_type": "stream",
     "name": "stderr",
     "text": [
      "\r\n",
      "68it [02:05,  1.88s/it]"
     ]
    },
    {
     "output_type": "stream",
     "name": "stdout",
     "text": [
      "Downloading XC199733.ogg.zip to audio_files\r\n",
      "\r\n",
      "  0%|                                               | 0.00/1.15M [00:00<?, ?B/s]\r\n",
      "\r\n",
      "100%|██████████████████████████████████████| 1.15M/1.15M [00:00<00:00, 65.5MB/s]\r\n"
     ]
    },
    {
     "output_type": "stream",
     "name": "stderr",
     "text": [
      "/home/ec2-user/anaconda3/envs/python3/lib/python3.6/site-packages/librosa/core/audio.py:165: UserWarning: PySoundFile failed. Trying audioread instead.\n",
      "  warnings.warn(\"PySoundFile failed. Trying audioread instead.\")\n",
      "\r\n",
      "69it [02:06,  1.64s/it]"
     ]
    },
    {
     "output_type": "stream",
     "name": "stdout",
     "text": [
      "Downloading XC27168.ogg to audio_files\r\n",
      "\r\n",
      "  0%|                                                | 0.00/535k [00:00<?, ?B/s]\r\n",
      "\r\n",
      "100%|████████████████████████████████████████| 535k/535k [00:00<00:00, 61.5MB/s]\r\n"
     ]
    },
    {
     "output_type": "stream",
     "name": "stderr",
     "text": [
      "\r\n",
      "70it [02:08,  1.77s/it]"
     ]
    },
    {
     "output_type": "stream",
     "name": "stdout",
     "text": [
      "Downloading XC616007.ogg to audio_files\r\n",
      "\r\n",
      "  0%|                                                | 0.00/520k [00:00<?, ?B/s]\r\n",
      "\r\n",
      "100%|████████████████████████████████████████| 520k/520k [00:00<00:00, 66.5MB/s]\r\n"
     ]
    },
    {
     "output_type": "stream",
     "name": "stderr",
     "text": [
      "\r\n",
      "71it [02:10,  1.79s/it]"
     ]
    },
    {
     "output_type": "stream",
     "name": "stdout",
     "text": [
      "Downloading XC512898.ogg to audio_files\r\n",
      "\r\n",
      "  0%|                                                | 0.00/173k [00:00<?, ?B/s]\r\n",
      "\r\n",
      "100%|████████████████████████████████████████| 173k/173k [00:00<00:00, 44.6MB/s]\r\n"
     ]
    },
    {
     "output_type": "stream",
     "name": "stderr",
     "text": [
      "\r\n",
      "72it [02:12,  1.86s/it]"
     ]
    },
    {
     "output_type": "stream",
     "name": "stdout",
     "text": [
      "Downloading XC616117.ogg.zip to audio_files\r\n",
      "\r\n",
      "  0%|                                               | 0.00/1.00M [00:00<?, ?B/s]\r\n",
      "\r\n",
      "100%|██████████████████████████████████████| 1.00M/1.00M [00:00<00:00, 64.3MB/s]\r\n"
     ]
    },
    {
     "output_type": "stream",
     "name": "stderr",
     "text": [
      "/home/ec2-user/anaconda3/envs/python3/lib/python3.6/site-packages/librosa/core/audio.py:165: UserWarning: PySoundFile failed. Trying audioread instead.\n",
      "  warnings.warn(\"PySoundFile failed. Trying audioread instead.\")\n",
      "\r\n",
      "73it [02:14,  1.66s/it]"
     ]
    },
    {
     "output_type": "stream",
     "name": "stdout",
     "text": [
      "Downloading XC378429.ogg.zip to audio_files\r\n",
      "\r\n",
      "  0%|                                               | 0.00/1.46M [00:00<?, ?B/s]\r\n",
      "\r\n",
      "100%|██████████████████████████████████████| 1.46M/1.46M [00:00<00:00, 78.5MB/s]\r\n"
     ]
    },
    {
     "output_type": "stream",
     "name": "stderr",
     "text": [
      "/home/ec2-user/anaconda3/envs/python3/lib/python3.6/site-packages/librosa/core/audio.py:165: UserWarning: PySoundFile failed. Trying audioread instead.\n",
      "  warnings.warn(\"PySoundFile failed. Trying audioread instead.\")\n",
      "\r\n",
      "74it [02:14,  1.45s/it]"
     ]
    },
    {
     "output_type": "stream",
     "name": "stdout",
     "text": [
      "Downloading XC490913.ogg to audio_files\r\n",
      "\r\n",
      "  0%|                                               | 0.00/90.2k [00:00<?, ?B/s]\r\n",
      "\r\n",
      "100%|██████████████████████████████████████| 90.2k/90.2k [00:00<00:00, 27.6MB/s]\r\n"
     ]
    },
    {
     "output_type": "stream",
     "name": "stderr",
     "text": [
      "\r\n",
      "75it [02:16,  1.51s/it]"
     ]
    },
    {
     "output_type": "stream",
     "name": "stdout",
     "text": [
      "Downloading XC555284.ogg to audio_files\r\n",
      "\r\n",
      "  0%|                                                | 0.00/135k [00:00<?, ?B/s]\r\n",
      "\r\n",
      "100%|████████████████████████████████████████| 135k/135k [00:00<00:00, 24.4MB/s]\r\n"
     ]
    },
    {
     "output_type": "stream",
     "name": "stderr",
     "text": [
      "\r\n",
      "76it [02:18,  1.63s/it]"
     ]
    },
    {
     "output_type": "stream",
     "name": "stdout",
     "text": [
      "Downloading XC493967.ogg to audio_files\r\n",
      "\r\n",
      "  0%|                                                | 0.00/230k [00:00<?, ?B/s]\r\n",
      "\r\n",
      "100%|████████████████████████████████████████| 230k/230k [00:00<00:00, 28.2MB/s]\r\n"
     ]
    },
    {
     "output_type": "stream",
     "name": "stderr",
     "text": [
      "\r\n",
      "77it [02:20,  1.71s/it]"
     ]
    },
    {
     "output_type": "stream",
     "name": "stdout",
     "text": [
      "Downloading XC361235.ogg.zip to audio_files\n",
      "  0%|                                               | 0.00/3.74M [00:00<?, ?B/s]\n",
      "100%|██████████████████████████████████████| 3.74M/3.74M [00:00<00:00, 95.9MB/s]\n"
     ]
    },
    {
     "output_type": "stream",
     "name": "stderr",
     "text": [
      "/home/ec2-user/anaconda3/envs/python3/lib/python3.6/site-packages/librosa/core/audio.py:165: UserWarning: PySoundFile failed. Trying audioread instead.\n",
      "  warnings.warn(\"PySoundFile failed. Trying audioread instead.\")\n",
      "\r\n",
      "78it [02:21,  1.52s/it]"
     ]
    },
    {
     "output_type": "stream",
     "name": "stdout",
     "text": [
      "Downloading XC436242.ogg.zip to audio_files\r\n",
      "\r\n",
      "  0%|                                               | 0.00/1.48M [00:00<?, ?B/s]\r\n",
      "\r\n",
      "100%|██████████████████████████████████████| 1.48M/1.48M [00:00<00:00, 72.1MB/s]\r\n"
     ]
    },
    {
     "output_type": "stream",
     "name": "stderr",
     "text": [
      "/home/ec2-user/anaconda3/envs/python3/lib/python3.6/site-packages/librosa/core/audio.py:165: UserWarning: PySoundFile failed. Trying audioread instead.\n",
      "  warnings.warn(\"PySoundFile failed. Trying audioread instead.\")\n",
      "\r\n",
      "79it [02:22,  1.38s/it]"
     ]
    },
    {
     "output_type": "stream",
     "name": "stdout",
     "text": [
      "Downloading XC511029.ogg.zip to audio_files\n",
      "  0%|                                               | 0.00/1.09M [00:00<?, ?B/s]\n",
      "100%|██████████████████████████████████████| 1.09M/1.09M [00:00<00:00, 71.1MB/s]\n"
     ]
    },
    {
     "output_type": "stream",
     "name": "stderr",
     "text": [
      "/home/ec2-user/anaconda3/envs/python3/lib/python3.6/site-packages/librosa/core/audio.py:165: UserWarning: PySoundFile failed. Trying audioread instead.\n",
      "  warnings.warn(\"PySoundFile failed. Trying audioread instead.\")\n",
      "\r\n",
      "80it [02:23,  1.29s/it]"
     ]
    },
    {
     "output_type": "stream",
     "name": "stdout",
     "text": [
      "Downloading XC530697.ogg to audio_files\r\n",
      "\r\n",
      "  0%|                                               | 0.00/92.3k [00:00<?, ?B/s]\r\n",
      "\r\n",
      "100%|██████████████████████████████████████| 92.3k/92.3k [00:00<00:00, 2.51MB/s]\r\n"
     ]
    },
    {
     "output_type": "stream",
     "name": "stderr",
     "text": [
      "\r\n",
      "81it [02:25,  1.39s/it]"
     ]
    },
    {
     "output_type": "stream",
     "name": "stdout",
     "text": [
      "Downloading XC508635.ogg to audio_files\n",
      "  0%|                                                | 0.00/388k [00:00<?, ?B/s]\n",
      "100%|████████████████████████████████████████| 388k/388k [00:00<00:00, 5.37MB/s]\n"
     ]
    },
    {
     "output_type": "stream",
     "name": "stderr",
     "text": [
      "\r\n",
      "82it [02:27,  1.54s/it]"
     ]
    },
    {
     "output_type": "stream",
     "name": "stdout",
     "text": [
      "Downloading XC350463.ogg to audio_files\r\n",
      "\r\n",
      "  0%|                                                | 0.00/454k [00:00<?, ?B/s]\r\n",
      "\r\n",
      "100%|████████████████████████████████████████| 454k/454k [00:00<00:00, 49.9MB/s]\r\n"
     ]
    },
    {
     "output_type": "stream",
     "name": "stderr",
     "text": [
      "\r\n",
      "83it [02:29,  1.64s/it]"
     ]
    },
    {
     "output_type": "stream",
     "name": "stdout",
     "text": [
      "Downloading XC249273.ogg to audio_files\r\n",
      "\r\n",
      "  0%|                                                | 0.00/102k [00:00<?, ?B/s]\r\n",
      "\r\n",
      "100%|████████████████████████████████████████| 102k/102k [00:00<00:00, 33.5MB/s]\r\n"
     ]
    },
    {
     "output_type": "stream",
     "name": "stderr",
     "text": [
      "\r\n",
      "84it [02:30,  1.62s/it]"
     ]
    },
    {
     "output_type": "stream",
     "name": "stdout",
     "text": [
      "Downloading XC314200.ogg to audio_files\r\n",
      "\r\n",
      "  0%|                                                | 0.00/142k [00:00<?, ?B/s]\r\n",
      "\r\n",
      "100%|████████████████████████████████████████| 142k/142k [00:00<00:00, 35.0MB/s]\r\n"
     ]
    },
    {
     "output_type": "stream",
     "name": "stderr",
     "text": [
      "\r\n",
      "85it [02:32,  1.71s/it]"
     ]
    },
    {
     "output_type": "stream",
     "name": "stdout",
     "text": [
      "Downloading XC538807.ogg.zip to audio_files\n",
      " 74%|████████████████████████████▏         | 6.00M/8.10M [00:00<00:00, 58.8MB/s]\n",
      "100%|██████████████████████████████████████| 8.10M/8.10M [00:00<00:00, 14.1MB/s]\n"
     ]
    },
    {
     "output_type": "stream",
     "name": "stderr",
     "text": [
      "/home/ec2-user/anaconda3/envs/python3/lib/python3.6/site-packages/librosa/core/audio.py:165: UserWarning: PySoundFile failed. Trying audioread instead.\n",
      "  warnings.warn(\"PySoundFile failed. Trying audioread instead.\")\n",
      "\r\n",
      "86it [02:34,  1.70s/it]"
     ]
    },
    {
     "output_type": "stream",
     "name": "stdout",
     "text": [
      "Downloading XC205111.ogg to audio_files\n",
      "  0%|                                                | 0.00/253k [00:00<?, ?B/s]\n",
      "100%|████████████████████████████████████████| 253k/253k [00:00<00:00, 52.4MB/s]\n"
     ]
    },
    {
     "output_type": "stream",
     "name": "stderr",
     "text": [
      "\r\n",
      "87it [02:36,  1.74s/it]"
     ]
    },
    {
     "output_type": "stream",
     "name": "stdout",
     "text": [
      "Downloading XC110332.ogg to audio_files\n",
      "  0%|                                                | 0.00/348k [00:00<?, ?B/s]\n",
      "100%|████████████████████████████████████████| 348k/348k [00:00<00:00, 41.2MB/s]\n"
     ]
    },
    {
     "output_type": "stream",
     "name": "stderr",
     "text": [
      "\r\n",
      "88it [02:37,  1.78s/it]"
     ]
    },
    {
     "output_type": "stream",
     "name": "stdout",
     "text": [
      "Downloading XC585185.ogg.zip to audio_files\r\n",
      "\r\n",
      "  0%|                                               | 0.00/2.94M [00:00<?, ?B/s]\r\n",
      "\r\n",
      "100%|██████████████████████████████████████| 2.94M/2.94M [00:00<00:00, 87.3MB/s]\r\n"
     ]
    },
    {
     "output_type": "stream",
     "name": "stderr",
     "text": [
      "/home/ec2-user/anaconda3/envs/python3/lib/python3.6/site-packages/librosa/core/audio.py:165: UserWarning: PySoundFile failed. Trying audioread instead.\n",
      "  warnings.warn(\"PySoundFile failed. Trying audioread instead.\")\n",
      "\r\n",
      "89it [02:39,  1.57s/it]"
     ]
    },
    {
     "output_type": "stream",
     "name": "stdout",
     "text": [
      "Downloading XC538785.ogg.zip to audio_files\r\n",
      "\r\n",
      "  0%|                                               | 0.00/1.43M [00:00<?, ?B/s]\r\n",
      "\r\n",
      "100%|██████████████████████████████████████| 1.43M/1.43M [00:00<00:00, 75.8MB/s]\r\n"
     ]
    },
    {
     "output_type": "stream",
     "name": "stderr",
     "text": [
      "/home/ec2-user/anaconda3/envs/python3/lib/python3.6/site-packages/librosa/core/audio.py:165: UserWarning: PySoundFile failed. Trying audioread instead.\n",
      "  warnings.warn(\"PySoundFile failed. Trying audioread instead.\")\n",
      "\r\n",
      "90it [02:40,  1.42s/it]"
     ]
    },
    {
     "output_type": "stream",
     "name": "stdout",
     "text": [
      "XC611696.ogg.zip: Skipping, found more recently modified local copy (use --force to force download)\r\n"
     ]
    },
    {
     "output_type": "stream",
     "name": "stderr",
     "text": [
      "/home/ec2-user/anaconda3/envs/python3/lib/python3.6/site-packages/librosa/core/audio.py:165: UserWarning: PySoundFile failed. Trying audioread instead.\n",
      "  warnings.warn(\"PySoundFile failed. Trying audioread instead.\")\n",
      "\r\n",
      "91it [02:41,  1.31s/it]"
     ]
    },
    {
     "output_type": "stream",
     "name": "stdout",
     "text": [
      "Downloading XC332466.ogg.zip to audio_files\n",
      "  0%|                                               | 0.00/1.26M [00:00<?, ?B/s]\n",
      "100%|██████████████████████████████████████| 1.26M/1.26M [00:00<00:00, 72.6MB/s]\n"
     ]
    },
    {
     "output_type": "stream",
     "name": "stderr",
     "text": [
      "/home/ec2-user/anaconda3/envs/python3/lib/python3.6/site-packages/librosa/core/audio.py:165: UserWarning: PySoundFile failed. Trying audioread instead.\n",
      "  warnings.warn(\"PySoundFile failed. Trying audioread instead.\")\n",
      "\r\n",
      "92it [02:42,  1.24s/it]"
     ]
    },
    {
     "output_type": "stream",
     "name": "stdout",
     "text": [
      "Downloading XC210486.ogg.zip to audio_files\r\n",
      "\r\n",
      "  0%|                                               | 0.00/1.66M [00:00<?, ?B/s]\r\n",
      "\r\n",
      "100%|██████████████████████████████████████| 1.66M/1.66M [00:00<00:00, 70.1MB/s]\r\n"
     ]
    },
    {
     "output_type": "stream",
     "name": "stderr",
     "text": [
      "/home/ec2-user/anaconda3/envs/python3/lib/python3.6/site-packages/librosa/core/audio.py:165: UserWarning: PySoundFile failed. Trying audioread instead.\n",
      "  warnings.warn(\"PySoundFile failed. Trying audioread instead.\")\n",
      "\r\n",
      "93it [02:43,  1.22s/it]"
     ]
    },
    {
     "output_type": "stream",
     "name": "stdout",
     "text": [
      "Downloading XC486743.ogg to audio_files\n",
      "  0%|                                                | 0.00/185k [00:00<?, ?B/s]\n",
      "100%|████████████████████████████████████████| 185k/185k [00:00<00:00, 29.7MB/s]\n"
     ]
    },
    {
     "output_type": "stream",
     "name": "stderr",
     "text": [
      "\r\n",
      "94it [02:45,  1.44s/it]"
     ]
    },
    {
     "output_type": "stream",
     "name": "stdout",
     "text": [
      "Downloading XC548387.ogg to audio_files\r\n",
      "\r\n",
      "  0%|                                               | 0.00/79.7k [00:00<?, ?B/s]\r\n",
      "\r\n",
      "100%|██████████████████████████████████████| 79.7k/79.7k [00:00<00:00, 30.7MB/s]\r\n"
     ]
    },
    {
     "output_type": "stream",
     "name": "stderr",
     "text": [
      "\r\n",
      "95it [02:46,  1.46s/it]"
     ]
    },
    {
     "output_type": "stream",
     "name": "stdout",
     "text": [
      "Downloading XC219333.ogg to audio_files\r\n",
      "\r\n",
      "  0%|                                                | 0.00/368k [00:00<?, ?B/s]\r\n",
      "\r\n",
      "100%|████████████████████████████████████████| 368k/368k [00:00<00:00, 50.7MB/s]\r\n"
     ]
    },
    {
     "output_type": "stream",
     "name": "stderr",
     "text": [
      "\r\n",
      "96it [02:48,  1.61s/it]"
     ]
    },
    {
     "output_type": "stream",
     "name": "stdout",
     "text": [
      "Downloading XC458444.ogg to audio_files\n",
      "  0%|                                               | 0.00/83.2k [00:00<?, ?B/s]\n",
      "100%|██████████████████████████████████████| 83.2k/83.2k [00:00<00:00, 2.40MB/s]\n"
     ]
    },
    {
     "output_type": "stream",
     "name": "stderr",
     "text": [
      "\r\n",
      "97it [02:50,  1.61s/it]"
     ]
    },
    {
     "output_type": "stream",
     "name": "stdout",
     "text": [
      "Downloading XC431893.ogg to audio_files\n",
      "  0%|                                                | 0.00/172k [00:00<?, ?B/s]\n",
      "100%|████████████████████████████████████████| 172k/172k [00:00<00:00, 3.31MB/s]\n"
     ]
    },
    {
     "output_type": "stream",
     "name": "stderr",
     "text": [
      "\r\n",
      "98it [02:52,  1.80s/it]"
     ]
    },
    {
     "output_type": "stream",
     "name": "stdout",
     "text": [
      "Downloading XC25156.ogg to audio_files\n",
      "  0%|                                                | 0.00/313k [00:00<?, ?B/s]\n",
      "100%|████████████████████████████████████████| 313k/313k [00:00<00:00, 40.4MB/s]\n"
     ]
    },
    {
     "output_type": "stream",
     "name": "stderr",
     "text": [
      "\r\n",
      "99it [02:54,  1.84s/it]"
     ]
    },
    {
     "output_type": "stream",
     "name": "stdout",
     "text": [
      "Downloading XC307509.ogg to audio_files\r\n",
      "\r\n",
      "  0%|                                                | 0.00/144k [00:00<?, ?B/s]\r\n",
      "\r\n",
      "100%|████████████████████████████████████████| 144k/144k [00:00<00:00, 31.3MB/s]\r\n"
     ]
    },
    {
     "output_type": "stream",
     "name": "stderr",
     "text": [
      "\r\n",
      "100it [02:56,  1.84s/it]"
     ]
    },
    {
     "output_type": "stream",
     "name": "stdout",
     "text": [
      "Downloading XC156447.ogg to audio_files\n",
      "  0%|                                                | 0.00/351k [00:00<?, ?B/s]\n",
      "100%|████████████████████████████████████████| 351k/351k [00:00<00:00, 57.8MB/s]\n"
     ]
    },
    {
     "output_type": "stream",
     "name": "stderr",
     "text": [
      "\r\n",
      "101it [02:58,  1.84s/it]"
     ]
    },
    {
     "output_type": "stream",
     "name": "stdout",
     "text": [
      "Downloading XC613347.ogg to audio_files\r\n",
      "\r\n",
      "  0%|                                                | 0.00/298k [00:00<?, ?B/s]\r\n",
      "\r\n",
      "100%|████████████████████████████████████████| 298k/298k [00:00<00:00, 41.2MB/s]\r\n"
     ]
    },
    {
     "output_type": "stream",
     "name": "stderr",
     "text": [
      "\r\n",
      "102it [03:00,  1.83s/it]"
     ]
    },
    {
     "output_type": "stream",
     "name": "stdout",
     "text": [
      "Downloading XC380471.ogg to audio_files\r\n",
      "\r\n",
      "  0%|                                                | 0.00/234k [00:00<?, ?B/s]\r\n",
      "\r\n",
      "100%|████████████████████████████████████████| 234k/234k [00:00<00:00, 43.2MB/s]\r\n"
     ]
    },
    {
     "output_type": "stream",
     "name": "stderr",
     "text": [
      "\r\n",
      "103it [03:02,  1.90s/it]"
     ]
    },
    {
     "output_type": "stream",
     "name": "stdout",
     "text": [
      "429 - Too Many Requests\r\n"
     ]
    },
    {
     "output_type": "stream",
     "name": "stderr",
     "text": [
      "/home/ec2-user/anaconda3/envs/python3/lib/python3.6/site-packages/librosa/core/audio.py:165: UserWarning: PySoundFile failed. Trying audioread instead.\n",
      "  warnings.warn(\"PySoundFile failed. Trying audioread instead.\")\n",
      "\r\n",
      "104it [04:33, 28.60s/it]"
     ]
    },
    {
     "output_type": "stream",
     "name": "stdout",
     "text": [
      "429 - Too Many Requests\r\n"
     ]
    },
    {
     "output_type": "stream",
     "name": "stderr",
     "text": [
      "/home/ec2-user/anaconda3/envs/python3/lib/python3.6/site-packages/librosa/core/audio.py:165: UserWarning: PySoundFile failed. Trying audioread instead.\n",
      "  warnings.warn(\"PySoundFile failed. Trying audioread instead.\")\n",
      "\r\n",
      "105it [06:03, 47.29s/it]"
     ]
    }
   ],
   "metadata": {
    "scrolled": true
   }
  }
 ],
 "metadata": {
  "kernelspec": {
   "display_name": "conda_python3",
   "language": "python",
   "name": "conda_python3"
  },
  "language_info": {
   "codemirror_mode": {
    "name": "ipython",
    "version": 3
   },
   "file_extension": ".py",
   "mimetype": "text/x-python",
   "name": "python",
   "nbconvert_exporter": "python",
   "pygments_lexer": "ipython3",
   "version": "3.6.13"
  }
 },
 "nbformat": 4,
 "nbformat_minor": 5
}