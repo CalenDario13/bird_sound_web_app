{
 "cells": [
  {
   "cell_type": "code",
   "execution_count": null,
   "id": "f2b88306",
   "metadata": {},
   "outputs": [],
   "source": [
    "! pip install kaggle"
   ]
  },
  {
   "cell_type": "code",
   "execution_count": null,
   "id": "6f22ad11",
   "metadata": {
    "scrolled": true
   },
   "outputs": [],
   "source": [
    "! conda install -c conda-forge librosa --yes"
   ]
  },
  {
   "cell_type": "code",
   "execution_count": null,
   "id": "078d14de",
   "metadata": {},
   "outputs": [],
   "source": [
    "import sagemaker\n",
    "import boto3\n",
    "from sagemaker import get_execution_role\n",
    "\n",
    "\n",
    "import pandas as pd\n",
    "import librosa\n",
    "import matplotlib.pyplot as plt\n",
    "import numpy as np\n",
    "from PIL import Image\n",
    "from sklearn.utils import shuffle\n",
    "from collections import Counter\n",
    "from tqdm import tqdm\n",
    "import os"
   ]
  },
  {
   "cell_type": "code",
   "execution_count": null,
   "id": "11841b36",
   "metadata": {},
   "outputs": [],
   "source": [
    "sagemaker_session = sagemaker.Session()\n",
    "sagemaker_session.boto_region_name\n",
    "role = get_execution_role()"
   ]
  },
  {
   "cell_type": "code",
   "execution_count": null,
   "id": "d8c5ca03",
   "metadata": {},
   "outputs": [],
   "source": [
    "! mkdir ~/.kaggle\n",
    "! cp kaggle.json ~/.kaggle/\n",
    "! chmod 600 ~/.kaggle/kaggle.json"
   ]
  },
  {
   "cell_type": "code",
   "execution_count": null,
   "id": "25d2fefe",
   "metadata": {},
   "outputs": [],
   "source": [
    "!kaggle competitions download -c birdclef-2021 -f train_metadata.csv\n",
    "!unzip train_metadata.csv.zip\n",
    "!rm train_metadata.csv.zip"
   ]
  },
  {
   "cell_type": "code",
   "execution_count": null,
   "id": "f0ff0a55",
   "metadata": {},
   "outputs": [],
   "source": [
    "meta_data_path = 'train_metadata.csv'\n",
    "meta_data = pd.read_csv(meta_data_path)\n",
    "meta_data = meta_data[meta_data['rating'] >= 4 ]\n",
    "counter_classes = pd.DataFrame(sorted(Counter(meta_data['primary_label']).items(), key=lambda x: x[1], reverse=True))\n",
    "meta_data = meta_data.merge(counter_classes, how='left', left_on='primary_label', right_on=0)\n",
    "\n",
    "del meta_data[0]\n",
    "meta_data = meta_data.rename(columns={1:'count_class'})\n",
    "\n",
    "meta_data = meta_data[meta_data['count_class']>= 200]\n",
    "meta_data = shuffle(meta_data)\n",
    "audio_name = meta_data.loc[meta_data['count_class'] >= 200, 'filename'].values\n",
    "audio_labels = meta_data.loc[meta_data['count_class'] >= 200, 'primary_label'].values\n",
    "\n",
    "cls_id_map = {name:idx for idx, name in enumerate(np.unique(audio_labels))}"
   ]
  },
  {
   "cell_type": "code",
   "execution_count": null,
   "id": "1a83dc21",
   "metadata": {},
   "outputs": [],
   "source": [
    "SR = 32000\n",
    "SIGNAL_LENGTH = 5 \n",
    "SPEC_SHAPE = (48, 128) \n",
    "FMIN = 500\n",
    "FMAX = 12500\n",
    "HOP_LENGHT = int(SIGNAL_LENGTH * SR / (SPEC_SHAPE[1] - 1))\n",
    "DURATION  = 15\n",
    "\n",
    "def audio_process(wave):    \n",
    "    audio = librosa.feature.melspectrogram(y=wave,\n",
    "                                          n_fft=1024,\n",
    "                                          sr=SR,\n",
    "                                          hop_length=HOP_LENGHT, \n",
    "                                          fmin=FMIN,\n",
    "                                          n_mels=SPEC_SHAPE[0],\n",
    "                                          fmax=FMAX)\n",
    "    audio = librosa.power_to_db(audio, ref=np.max)\n",
    "    audio = audio - audio.min()\n",
    "    audio = audio / audio.max()\n",
    "    return audio\n",
    "\n",
    "def open_audio(path, duration=15):\n",
    "    waves, rate = librosa.load(path, sr=SR, duration=duration)\n",
    "    processed_audios = []\n",
    "    for i in range(0, len(waves), int(SIGNAL_LENGTH * SR)):\n",
    "        w = waves[i:i + int(SIGNAL_LENGTH * SR)]\n",
    "        if len(w) < int(SIGNAL_LENGTH * SR):\n",
    "            break\n",
    "        temp = audio_process(w)\n",
    "        if np.any(np.isnan(temp)) == False:\n",
    "            processed_audios.append(temp)\n",
    "    return processed_audios"
   ]
  },
  {
   "cell_type": "code",
   "execution_count": null,
   "id": "cb63ee75",
   "metadata": {
    "scrolled": true
   },
   "outputs": [],
   "source": [
    "!mkdir audio_files\n",
    "\n",
    "dir_path = 'audio_files/'\n",
    "data_path = 'data/'\n",
    "\n",
    "for audio_file, target in tqdm(zip(audio_name[:10], audio_labels[:10])):\n",
    "    !kaggle competitions download -c birdclef-2021 -p audio_files/ -f {'train_short_audio/' + target+'/'+audio_file} \n",
    "\n",
    "    audio_path = dir_path + str(audio_file)\n",
    "    temp = open_audio(audio_path)\n",
    "\n",
    "    if not os.path.exists(data_path + target):\n",
    "        os.makedirs(data_path + target)\n",
    "\n",
    "    for idx, x in enumerate(temp):\n",
    "        img = Image.fromarray(x * 255.0).convert(\"L\")\n",
    "        img_save_path = data_path + target + '/' + audio_file[:-4] + f'_{idx}' '.png'\n",
    "        img.save(img_save_path)\n",
    "        s3.Bucket(bucket).upload_file(img_save_path,img_save_path)\n",
    "    !rm {dir_path + audio_file}\n",
    "    !rm {img_save_path}"
   ]
  }
 ],
 "metadata": {
  "kernelspec": {
   "display_name": "conda_python3",
   "language": "python",
   "name": "conda_python3"
  },
  "language_info": {
   "codemirror_mode": {
    "name": "ipython",
    "version": 3
   },
   "file_extension": ".py",
   "mimetype": "text/x-python",
   "name": "python",
   "nbconvert_exporter": "python",
   "pygments_lexer": "ipython3",
   "version": "3.6.13"
  }
 },
 "nbformat": 4,
 "nbformat_minor": 5
}
